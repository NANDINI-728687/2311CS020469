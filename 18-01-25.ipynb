{
 "cells": [
  {
   "cell_type": "code",
   "execution_count": 1,
   "id": "bfb2a50d-b280-49a6-96d1-88aa2f085f4b",
   "metadata": {},
   "outputs": [
    {
     "data": {
      "text/plain": [
       "[30, 20, 5, 8, 9]"
      ]
     },
     "execution_count": 1,
     "metadata": {},
     "output_type": "execute_result"
    }
   ],
   "source": [
    "h=[30,20,5,8,9]\n",
    "h"
   ]
  },
  {
   "cell_type": "code",
   "execution_count": 3,
   "id": "22784e73-b3a7-44e4-83ad-8a7075d3e621",
   "metadata": {},
   "outputs": [],
   "source": [
    "#for performing any operation on tuple we need for loop\n",
    "x=[]\n",
    "for i in h:\n",
    "    x.append(i+7)"
   ]
  },
  {
   "cell_type": "code",
   "execution_count": 5,
   "id": "49089a57-4392-4120-82ee-554625b4e179",
   "metadata": {},
   "outputs": [
    {
     "data": {
      "text/plain": [
       "[37, 27, 12, 15, 16]"
      ]
     },
     "execution_count": 5,
     "metadata": {},
     "output_type": "execute_result"
    }
   ],
   "source": [
    "x"
   ]
  },
  {
   "cell_type": "code",
   "execution_count": 7,
   "id": "64e45e48-e8fd-4f76-b9b4-d1f2b721fa7f",
   "metadata": {},
   "outputs": [
    {
     "data": {
      "text/plain": [
       "(6, 2, 3, 9, 7, 5, 8)"
      ]
     },
     "execution_count": 7,
     "metadata": {},
     "output_type": "execute_result"
    }
   ],
   "source": [
    "s=(6,2,3,9,7,5,8)\n",
    "s"
   ]
  },
  {
   "cell_type": "code",
   "execution_count": 9,
   "id": "b9d187af-5c25-4a85-b293-7efaa4de6eeb",
   "metadata": {},
   "outputs": [
    {
     "data": {
      "text/plain": [
       "(36, 4, 9, 81, 49, 25, 64)"
      ]
     },
     "execution_count": 9,
     "metadata": {},
     "output_type": "execute_result"
    }
   ],
   "source": [
    "y=list(s)\n",
    "d=[]\n",
    "for i in y:\n",
    "    d.append(i**2)\n",
    "s=tuple(d)\n",
    "s"
   ]
  },
  {
   "cell_type": "code",
   "execution_count": 11,
   "id": "5bd8e3d0-6c9d-4c08-89cf-ddf1b32840d9",
   "metadata": {},
   "outputs": [
    {
     "data": {
      "text/plain": [
       "(36, 4, 9, 81, 49, 25, 64)"
      ]
     },
     "execution_count": 11,
     "metadata": {},
     "output_type": "execute_result"
    }
   ],
   "source": [
    "s"
   ]
  },
  {
   "cell_type": "code",
   "execution_count": 13,
   "id": "a91643ee-578e-46ab-8116-2a29db494a9c",
   "metadata": {},
   "outputs": [],
   "source": [
    "x=list(s)\n",
    "d=[]\n",
    "for i in x:\n",
    "    if i>50:\n",
    "        d.append(i)\n",
    "    "
   ]
  },
  {
   "cell_type": "code",
   "execution_count": 15,
   "id": "459c81a1-03ae-49c3-9cf9-6c0c823ead73",
   "metadata": {},
   "outputs": [
    {
     "data": {
      "text/plain": [
       "[81, 64]"
      ]
     },
     "execution_count": 15,
     "metadata": {},
     "output_type": "execute_result"
    }
   ],
   "source": [
    "d"
   ]
  },
  {
   "cell_type": "code",
   "execution_count": 17,
   "id": "93582209-d2ed-4aca-964c-3903e75291b1",
   "metadata": {},
   "outputs": [],
   "source": [
    "import numpy as np"
   ]
  },
  {
   "cell_type": "code",
   "execution_count": 19,
   "id": "62e78e56-7fb2-41aa-8991-a5992132aad1",
   "metadata": {},
   "outputs": [],
   "source": [
    "arr=np.array([20,30,50,70,40,30,23,98])"
   ]
  },
  {
   "cell_type": "code",
   "execution_count": 21,
   "id": "eefc2d5e-f55e-4bb7-a38b-0bb4119a1cf1",
   "metadata": {},
   "outputs": [
    {
     "data": {
      "text/plain": [
       "array([20, 30, 50, 70, 40, 30, 23, 98])"
      ]
     },
     "execution_count": 21,
     "metadata": {},
     "output_type": "execute_result"
    }
   ],
   "source": [
    "arr"
   ]
  },
  {
   "cell_type": "code",
   "execution_count": 23,
   "id": "ffd7368c-14bc-48b1-99bf-897f44723300",
   "metadata": {},
   "outputs": [
    {
     "data": {
      "text/plain": [
       "array([ 27,  37,  57,  77,  47,  37,  30, 105])"
      ]
     },
     "execution_count": 23,
     "metadata": {},
     "output_type": "execute_result"
    }
   ],
   "source": [
    "arr+7"
   ]
  },
  {
   "cell_type": "code",
   "execution_count": 25,
   "id": "cb754f91-8f6a-47ad-a275-0043681775b1",
   "metadata": {},
   "outputs": [
    {
     "data": {
      "text/plain": [
       "array([20, 30, 50, 70, 40, 30, 23, 98])"
      ]
     },
     "execution_count": 25,
     "metadata": {},
     "output_type": "execute_result"
    }
   ],
   "source": [
    "arr # original array won't be changed"
   ]
  },
  {
   "cell_type": "code",
   "execution_count": 27,
   "id": "7281e95d-5c76-46eb-b532-e01f84c8650e",
   "metadata": {},
   "outputs": [
    {
     "data": {
      "text/plain": [
       "array([ 27,  37,  57,  77,  47,  37,  30, 105])"
      ]
     },
     "execution_count": 27,
     "metadata": {},
     "output_type": "execute_result"
    }
   ],
   "source": [
    "#to store changes of array need to store in another variable\n",
    "t=arr+7\n",
    "t"
   ]
  },
  {
   "cell_type": "code",
   "execution_count": 29,
   "id": "e5d649ee-35c3-4957-82e2-2423bc9670b6",
   "metadata": {},
   "outputs": [
    {
     "data": {
      "text/plain": [
       "array([20, 30, 50, 70, 40, 30, 23, 98])"
      ]
     },
     "execution_count": 29,
     "metadata": {},
     "output_type": "execute_result"
    }
   ],
   "source": [
    "arr"
   ]
  },
  {
   "cell_type": "code",
   "execution_count": 31,
   "id": "3c2197ed-50a6-47cd-9df4-af2035a74a72",
   "metadata": {},
   "outputs": [
    {
     "data": {
      "text/plain": [
       "array([False, False, False,  True, False, False, False,  True])"
      ]
     },
     "execution_count": 31,
     "metadata": {},
     "output_type": "execute_result"
    }
   ],
   "source": [
    "arr>50"
   ]
  },
  {
   "cell_type": "code",
   "execution_count": 33,
   "id": "35c19311-2515-4f67-9e3f-d2c9014aec53",
   "metadata": {},
   "outputs": [
    {
     "data": {
      "text/plain": [
       "50"
      ]
     },
     "execution_count": 33,
     "metadata": {},
     "output_type": "execute_result"
    }
   ],
   "source": [
    "# directly performing indexing and slicing\n",
    "arr[2]"
   ]
  },
  {
   "cell_type": "code",
   "execution_count": 35,
   "id": "7b098330-d892-4448-836b-e7bdb6830550",
   "metadata": {},
   "outputs": [
    {
     "data": {
      "text/plain": [
       "40"
      ]
     },
     "execution_count": 35,
     "metadata": {},
     "output_type": "execute_result"
    }
   ],
   "source": [
    "arr[-4]"
   ]
  },
  {
   "cell_type": "code",
   "execution_count": 37,
   "id": "28ada542-d440-4116-99be-5e3c16da68e1",
   "metadata": {},
   "outputs": [
    {
     "data": {
      "text/plain": [
       "40"
      ]
     },
     "execution_count": 37,
     "metadata": {},
     "output_type": "execute_result"
    }
   ],
   "source": [
    "arr[4]"
   ]
  },
  {
   "cell_type": "code",
   "execution_count": 39,
   "id": "1bc0ce58-eebc-46bc-aac7-83b44633a6c2",
   "metadata": {},
   "outputs": [
    {
     "data": {
      "text/plain": [
       "array([40, 30, 23, 98])"
      ]
     },
     "execution_count": 39,
     "metadata": {},
     "output_type": "execute_result"
    }
   ],
   "source": [
    "arr[4:8]"
   ]
  },
  {
   "cell_type": "code",
   "execution_count": 41,
   "id": "ca4dc0f8-5f89-451c-b024-d2ecbab75187",
   "metadata": {},
   "outputs": [
    {
     "data": {
      "text/plain": [
       "array([40, 23])"
      ]
     },
     "execution_count": 41,
     "metadata": {},
     "output_type": "execute_result"
    }
   ],
   "source": [
    "arr[4:8:2]"
   ]
  },
  {
   "cell_type": "code",
   "execution_count": 43,
   "id": "95e59d4f-5176-4b9c-9f15-28352e49922c",
   "metadata": {},
   "outputs": [
    {
     "data": {
      "text/plain": [
       "array([20, 30, 50, 70, 40, 30, 23, 98])"
      ]
     },
     "execution_count": 43,
     "metadata": {},
     "output_type": "execute_result"
    }
   ],
   "source": [
    "arr"
   ]
  },
  {
   "cell_type": "code",
   "execution_count": 45,
   "id": "1390e9e7-29b2-471d-8996-75c45b5b642c",
   "metadata": {},
   "outputs": [
    {
     "data": {
      "text/plain": [
       "array([70, 98])"
      ]
     },
     "execution_count": 45,
     "metadata": {},
     "output_type": "execute_result"
    }
   ],
   "source": [
    "arr[arr>50]  # elements satissfying condition"
   ]
  },
  {
   "cell_type": "code",
   "execution_count": 47,
   "id": "74b49bd9-4203-4615-8d99-225ff07519dc",
   "metadata": {},
   "outputs": [
    {
     "data": {
      "text/plain": [
       "array([False, False, False,  True, False, False, False,  True])"
      ]
     },
     "execution_count": 47,
     "metadata": {},
     "output_type": "execute_result"
    }
   ],
   "source": [
    "arr>50"
   ]
  },
  {
   "cell_type": "code",
   "execution_count": 49,
   "id": "4fb562e0-5ac8-4e3b-807c-aa5e929a6d93",
   "metadata": {},
   "outputs": [
    {
     "data": {
      "text/plain": [
       "array([20, 30, 50, 40, 30, 23])"
      ]
     },
     "execution_count": 49,
     "metadata": {},
     "output_type": "execute_result"
    }
   ],
   "source": [
    "arr[arr<=60]"
   ]
  },
  {
   "cell_type": "code",
   "execution_count": 51,
   "id": "57124fc5-707b-4107-9e0c-3c0c25135135",
   "metadata": {},
   "outputs": [
    {
     "data": {
      "text/plain": [
       "[36, 4, 9, 81, 49, 25, 64]"
      ]
     },
     "execution_count": 51,
     "metadata": {},
     "output_type": "execute_result"
    }
   ],
   "source": [
    "k=[36,4,9,81,49,25,64]\n",
    "k"
   ]
  },
  {
   "cell_type": "code",
   "execution_count": 53,
   "id": "b17c8bb3-3262-47f0-a607-0aee780739fe",
   "metadata": {},
   "outputs": [
    {
     "data": {
      "text/plain": [
       "[3, 6]"
      ]
     },
     "execution_count": 53,
     "metadata": {},
     "output_type": "execute_result"
    }
   ],
   "source": [
    "index=[]\n",
    "for i in range(len(k)):\n",
    "    if k[i]>50:\n",
    "        index.append(i)\n",
    "index"
   ]
  },
  {
   "cell_type": "code",
   "execution_count": 55,
   "id": "93c097ed-f7dc-49b0-b16f-3d56aa92d390",
   "metadata": {},
   "outputs": [
    {
     "data": {
      "text/plain": [
       "(array([3, 7], dtype=int64),)"
      ]
     },
     "execution_count": 55,
     "metadata": {},
     "output_type": "execute_result"
    }
   ],
   "source": [
    "np.where(arr>50) #indexes of elements satisfying condition"
   ]
  },
  {
   "cell_type": "code",
   "execution_count": 57,
   "id": "6aa310ac-6867-4428-bc12-fbdfe7f79ac2",
   "metadata": {},
   "outputs": [
    {
     "data": {
      "text/plain": [
       "array([70, 98])"
      ]
     },
     "execution_count": 57,
     "metadata": {},
     "output_type": "execute_result"
    }
   ],
   "source": [
    "arr[arr>50]  # elements satissfying condition"
   ]
  },
  {
   "cell_type": "code",
   "execution_count": null,
   "id": "6f1a9d93-6c51-43a3-aa5a-3e25de69934f",
   "metadata": {},
   "outputs": [],
   "source": []
  }
 ],
 "metadata": {
  "kernelspec": {
   "display_name": "Python [conda env:base] *",
   "language": "python",
   "name": "conda-base-py"
  },
  "language_info": {
   "codemirror_mode": {
    "name": "ipython",
    "version": 3
   },
   "file_extension": ".py",
   "mimetype": "text/x-python",
   "name": "python",
   "nbconvert_exporter": "python",
   "pygments_lexer": "ipython3",
   "version": "3.12.7"
  }
 },
 "nbformat": 4,
 "nbformat_minor": 5
}
