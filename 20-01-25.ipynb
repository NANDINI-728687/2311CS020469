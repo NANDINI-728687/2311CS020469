{
 "cells": [
  {
   "cell_type": "code",
   "execution_count": 1,
   "id": "c4df6588-cb6f-4afa-9f9d-56a5bc83b4eb",
   "metadata": {},
   "outputs": [],
   "source": [
    "import pandas as pd\n",
    "import numpy as np"
   ]
  },
  {
   "cell_type": "code",
   "execution_count": 3,
   "id": "85426836-4ee3-48fc-94c7-a1a1a9668b8e",
   "metadata": {},
   "outputs": [
    {
     "data": {
      "text/plain": [
       "array([52, 48, 58, 20, 55, 41, 37, 42, 29, 23, 57, 58, 27, 47, 47])"
      ]
     },
     "execution_count": 3,
     "metadata": {},
     "output_type": "execute_result"
    }
   ],
   "source": [
    "a=np.random.randint(20,60,15)\n",
    "a"
   ]
  },
  {
   "cell_type": "code",
   "execution_count": 5,
   "id": "52b342a6-5f5a-450e-bfe2-220419c686dd",
   "metadata": {},
   "outputs": [
    {
     "data": {
      "text/plain": [
       "array([52, 48, 58, 20, 55, 41, 37, 42, 29, 23, 57, 58, 27, 47, 47])"
      ]
     },
     "execution_count": 5,
     "metadata": {},
     "output_type": "execute_result"
    }
   ],
   "source": [
    "a"
   ]
  },
  {
   "cell_type": "code",
   "execution_count": 7,
   "id": "455bcd2b-6b16-4a59-87e4-5f067184d5d7",
   "metadata": {},
   "outputs": [
    {
     "data": {
      "text/plain": [
       "array([], dtype=int32)"
      ]
     },
     "execution_count": 7,
     "metadata": {},
     "output_type": "execute_result"
    }
   ],
   "source": [
    "a[-5:-12]"
   ]
  },
  {
   "cell_type": "code",
   "execution_count": 9,
   "id": "9d5f91d2-fa21-41ac-9260-3ef6dcb2e7ea",
   "metadata": {},
   "outputs": [
    {
     "data": {
      "text/plain": [
       "array([57, 23, 29, 42, 37, 41, 55])"
      ]
     },
     "execution_count": 9,
     "metadata": {},
     "output_type": "execute_result"
    }
   ],
   "source": [
    "a[-5:-12:-1]"
   ]
  },
  {
   "cell_type": "code",
   "execution_count": 11,
   "id": "960d504e-2bcf-4c7c-bc21-8e8a3a1c7cbf",
   "metadata": {},
   "outputs": [
    {
     "data": {
      "text/plain": [
       "1"
      ]
     },
     "execution_count": 11,
     "metadata": {},
     "output_type": "execute_result"
    }
   ],
   "source": [
    "a.ndim"
   ]
  },
  {
   "cell_type": "code",
   "execution_count": 13,
   "id": "beedabb3-509e-47c2-9678-a61777e7bd09",
   "metadata": {},
   "outputs": [
    {
     "data": {
      "text/plain": [
       "58"
      ]
     },
     "execution_count": 13,
     "metadata": {},
     "output_type": "execute_result"
    }
   ],
   "source": [
    "a[-4]"
   ]
  },
  {
   "cell_type": "code",
   "execution_count": 15,
   "id": "30a0e02f-11ed-4242-83f6-aaee27bc720c",
   "metadata": {},
   "outputs": [],
   "source": [
    "np.random.seed(94)\n",
    "b=np.random.randint(45,78,(7,6))"
   ]
  },
  {
   "cell_type": "code",
   "execution_count": 17,
   "id": "490ed1db-3d13-44e9-a333-d1ee2f9985e4",
   "metadata": {},
   "outputs": [
    {
     "data": {
      "text/plain": [
       "array([[63, 45, 48, 67, 74, 64],\n",
       "       [61, 53, 61, 59, 55, 77],\n",
       "       [69, 69, 48, 60, 71, 56],\n",
       "       [51, 58, 59, 47, 68, 77],\n",
       "       [46, 45, 52, 74, 65, 53],\n",
       "       [60, 55, 64, 72, 46, 69],\n",
       "       [65, 75, 75, 51, 75, 67]])"
      ]
     },
     "execution_count": 17,
     "metadata": {},
     "output_type": "execute_result"
    }
   ],
   "source": [
    "b"
   ]
  },
  {
   "cell_type": "code",
   "execution_count": 19,
   "id": "a39a7d05-a3cc-4bee-af06-9d0e4d8f19ef",
   "metadata": {},
   "outputs": [
    {
     "data": {
      "text/plain": [
       "2"
      ]
     },
     "execution_count": 19,
     "metadata": {},
     "output_type": "execute_result"
    }
   ],
   "source": [
    "b.ndim"
   ]
  },
  {
   "cell_type": "code",
   "execution_count": 21,
   "id": "87256240-b490-4552-9e56-4b902ea46d9c",
   "metadata": {},
   "outputs": [
    {
     "data": {
      "text/plain": [
       "array([63, 45, 48, 67, 74, 64])"
      ]
     },
     "execution_count": 21,
     "metadata": {},
     "output_type": "execute_result"
    }
   ],
   "source": [
    "b[0]"
   ]
  },
  {
   "cell_type": "code",
   "execution_count": 23,
   "id": "eb769b14-9909-4e71-9930-705581093204",
   "metadata": {},
   "outputs": [
    {
     "data": {
      "text/plain": [
       "array([74, 55, 71, 68, 65, 46, 75])"
      ]
     },
     "execution_count": 23,
     "metadata": {},
     "output_type": "execute_result"
    }
   ],
   "source": [
    "b[:,4]"
   ]
  },
  {
   "cell_type": "code",
   "execution_count": 25,
   "id": "8c2cb4e7-0269-4ad7-adc9-e455630077c0",
   "metadata": {},
   "outputs": [
    {
     "data": {
      "text/plain": [
       "59"
      ]
     },
     "execution_count": 25,
     "metadata": {},
     "output_type": "execute_result"
    }
   ],
   "source": [
    "b[1,3]"
   ]
  },
  {
   "cell_type": "code",
   "execution_count": 27,
   "id": "ea3af49a-bc6b-46ec-8c47-d9737b923be3",
   "metadata": {},
   "outputs": [
    {
     "data": {
      "text/plain": [
       "array([69, 69, 48, 60, 71, 56])"
      ]
     },
     "execution_count": 27,
     "metadata": {},
     "output_type": "execute_result"
    }
   ],
   "source": [
    "b[2] #2nd row"
   ]
  },
  {
   "cell_type": "code",
   "execution_count": 29,
   "id": "de922e16-d16d-420e-b0d9-be330c02a9e4",
   "metadata": {},
   "outputs": [
    {
     "data": {
      "text/plain": [
       "array([[63, 45, 48, 67, 74, 64],\n",
       "       [61, 53, 61, 59, 55, 77],\n",
       "       [69, 69, 48, 60, 71, 56],\n",
       "       [51, 58, 59, 47, 68, 77],\n",
       "       [46, 45, 52, 74, 65, 53],\n",
       "       [60, 55, 64, 72, 46, 69],\n",
       "       [65, 75, 75, 51, 75, 67]])"
      ]
     },
     "execution_count": 29,
     "metadata": {},
     "output_type": "execute_result"
    }
   ],
   "source": [
    "b[:,]"
   ]
  },
  {
   "cell_type": "code",
   "execution_count": 31,
   "id": "784794bb-2058-4073-9953-4f5f8680f5cf",
   "metadata": {},
   "outputs": [],
   "source": [
    "np.random.seed(94)\n",
    "b=np.random.randint(45,78,(7,6))"
   ]
  },
  {
   "cell_type": "code",
   "execution_count": 33,
   "id": "49a9b300-8f1c-472e-9bcb-b49344b54b7f",
   "metadata": {},
   "outputs": [
    {
     "data": {
      "text/plain": [
       "array([[63, 45, 48, 67, 74, 64],\n",
       "       [61, 53, 61, 59, 55, 77],\n",
       "       [69, 69, 48, 60, 71, 56],\n",
       "       [51, 58, 59, 47, 68, 77],\n",
       "       [46, 45, 52, 74, 65, 53],\n",
       "       [60, 55, 64, 72, 46, 69],\n",
       "       [65, 75, 75, 51, 75, 67]])"
      ]
     },
     "execution_count": 33,
     "metadata": {},
     "output_type": "execute_result"
    }
   ],
   "source": [
    "b"
   ]
  },
  {
   "cell_type": "code",
   "execution_count": 35,
   "id": "cf0a3f9a-48d0-45cd-8ce4-214ec7f1498a",
   "metadata": {},
   "outputs": [
    {
     "data": {
      "text/plain": [
       "array([69, 69, 48, 60, 71, 56])"
      ]
     },
     "execution_count": 35,
     "metadata": {},
     "output_type": "execute_result"
    }
   ],
   "source": [
    "b[2]#2nd row"
   ]
  },
  {
   "cell_type": "code",
   "execution_count": 37,
   "id": "7476dfa0-9377-48c3-8818-739e2e265053",
   "metadata": {},
   "outputs": [
    {
     "data": {
      "text/plain": [
       "array([74, 55, 71, 68, 65, 46, 75])"
      ]
     },
     "execution_count": 37,
     "metadata": {},
     "output_type": "execute_result"
    }
   ],
   "source": [
    "b[:,4]"
   ]
  },
  {
   "cell_type": "code",
   "execution_count": 39,
   "id": "5829e797-72b9-4ac9-a8b0-3d509f19e122",
   "metadata": {},
   "outputs": [
    {
     "data": {
      "text/plain": [
       "59"
      ]
     },
     "execution_count": 39,
     "metadata": {},
     "output_type": "execute_result"
    }
   ],
   "source": [
    "b[1,3]#1 st row and 3 column position"
   ]
  },
  {
   "cell_type": "code",
   "execution_count": 41,
   "id": "b4adbca2-1a6b-42e8-8241-4afbfc2edf45",
   "metadata": {},
   "outputs": [
    {
     "data": {
      "text/plain": [
       "55"
      ]
     },
     "execution_count": 41,
     "metadata": {},
     "output_type": "execute_result"
    }
   ],
   "source": [
    "b[1,4]"
   ]
  },
  {
   "cell_type": "code",
   "execution_count": 43,
   "id": "5dfeaaae-c9d6-47bb-8ff8-38d0ee03314e",
   "metadata": {},
   "outputs": [
    {
     "data": {
      "text/plain": [
       "array([69, 69, 48, 60, 71, 56])"
      ]
     },
     "execution_count": 43,
     "metadata": {},
     "output_type": "execute_result"
    }
   ],
   "source": [
    "b[2,]"
   ]
  },
  {
   "cell_type": "code",
   "execution_count": 45,
   "id": "f3d4d682-976e-4ef6-ad37-ecc5b4ed8f8f",
   "metadata": {},
   "outputs": [
    {
     "data": {
      "text/plain": [
       "array([60, 55, 64, 72, 46, 69])"
      ]
     },
     "execution_count": 45,
     "metadata": {},
     "output_type": "execute_result"
    }
   ],
   "source": [
    "b[5]"
   ]
  },
  {
   "cell_type": "code",
   "execution_count": 47,
   "id": "65a7afe9-349c-48f1-94ee-fe5f18540583",
   "metadata": {},
   "outputs": [
    {
     "data": {
      "text/plain": [
       "array([69, 48, 60, 71, 56])"
      ]
     },
     "execution_count": 47,
     "metadata": {},
     "output_type": "execute_result"
    }
   ],
   "source": [
    "b[2,1:6]"
   ]
  },
  {
   "cell_type": "code",
   "execution_count": 49,
   "id": "500722b7-944e-4069-8466-f2e3f1f56105",
   "metadata": {},
   "outputs": [
    {
     "ename": "NameError",
     "evalue": "name 'array' is not defined",
     "output_type": "error",
     "traceback": [
      "\u001b[1;31m---------------------------------------------------------------------------\u001b[0m",
      "\u001b[1;31mNameError\u001b[0m                                 Traceback (most recent call last)",
      "Cell \u001b[1;32mIn[49], line 1\u001b[0m\n\u001b[1;32m----> 1\u001b[0m array[ row_start : row\u001b[38;5;241m-\u001b[39mend : row\u001b[38;5;241m-\u001b[39mstep]\n",
      "\u001b[1;31mNameError\u001b[0m: name 'array' is not defined"
     ]
    }
   ],
   "source": [
    "array[ row_start : row-end : row-step]"
   ]
  },
  {
   "cell_type": "code",
   "execution_count": 51,
   "id": "c635d4df-3ac0-4bc1-b9a5-123e24c12e9a",
   "metadata": {},
   "outputs": [
    {
     "data": {
      "text/plain": [
       "array([[69, 48, 60, 71, 56]])"
      ]
     },
     "execution_count": 51,
     "metadata": {},
     "output_type": "execute_result"
    }
   ],
   "source": [
    "b[2:4:2,1:6]"
   ]
  },
  {
   "cell_type": "code",
   "execution_count": 53,
   "id": "87f80bb3-420c-47fb-acc8-72abe3e03790",
   "metadata": {},
   "outputs": [
    {
     "ename": "NameError",
     "evalue": "name 'array' is not defined",
     "output_type": "error",
     "traceback": [
      "\u001b[1;31m---------------------------------------------------------------------------\u001b[0m",
      "\u001b[1;31mNameError\u001b[0m                                 Traceback (most recent call last)",
      "Cell \u001b[1;32mIn[53], line 1\u001b[0m\n\u001b[1;32m----> 1\u001b[0m array [ row_start : row\u001b[38;5;241m-\u001b[39mend : row\u001b[38;5;241m-\u001b[39mstep , col_start : col_end : col_step]\n",
      "\u001b[1;31mNameError\u001b[0m: name 'array' is not defined"
     ]
    }
   ],
   "source": [
    "array [ row_start : row-end : row-step , col_start : col_end : col_step]\n"
   ]
  },
  {
   "cell_type": "code",
   "execution_count": 55,
   "id": "46da7e0f-0045-4186-9083-d6614219185f",
   "metadata": {},
   "outputs": [
    {
     "data": {
      "text/plain": [
       "array([[48, 60, 71, 56],\n",
       "       [59, 47, 68, 77],\n",
       "       [52, 74, 65, 53]])"
      ]
     },
     "execution_count": 55,
     "metadata": {},
     "output_type": "execute_result"
    }
   ],
   "source": [
    "b[2:5,2:6]"
   ]
  },
  {
   "cell_type": "code",
   "execution_count": 57,
   "id": "9a3fb967-1426-4e70-bc39-19fd5c9da4d8",
   "metadata": {},
   "outputs": [
    {
     "data": {
      "text/plain": [
       "array([[63, 45, 48, 67, 74, 64],\n",
       "       [61, 53, 61, 59, 55, 77],\n",
       "       [69, 69, 48, 60, 71, 56],\n",
       "       [51, 58, 59, 47, 68, 77],\n",
       "       [46, 45, 52, 74, 65, 53],\n",
       "       [60, 55, 64, 72, 46, 69],\n",
       "       [65, 75, 75, 51, 75, 67]])"
      ]
     },
     "execution_count": 57,
     "metadata": {},
     "output_type": "execute_result"
    }
   ],
   "source": [
    "b"
   ]
  },
  {
   "cell_type": "code",
   "execution_count": 59,
   "id": "ad5942c5-3a9e-4a1e-9ecc-8820441a8bd4",
   "metadata": {},
   "outputs": [
    {
     "data": {
      "text/plain": [
       "array([[61, 53, 61, 59, 55, 77],\n",
       "       [51, 58, 59, 47, 68, 77],\n",
       "       [60, 55, 64, 72, 46, 69]])"
      ]
     },
     "execution_count": 59,
     "metadata": {},
     "output_type": "execute_result"
    }
   ],
   "source": [
    "b[1:6:2]"
   ]
  },
  {
   "cell_type": "code",
   "execution_count": 61,
   "id": "fcdb4e58-1838-4487-b7ad-c937faad8ac6",
   "metadata": {},
   "outputs": [
    {
     "data": {
      "text/plain": [
       "array([[53, 55],\n",
       "       [58, 68],\n",
       "       [55, 46]])"
      ]
     },
     "execution_count": 61,
     "metadata": {},
     "output_type": "execute_result"
    }
   ],
   "source": [
    "b[1:6:2, 1:8:3]"
   ]
  },
  {
   "cell_type": "code",
   "execution_count": null,
   "id": "462e2d41-72d7-4fc9-a9b5-6e64a69e5466",
   "metadata": {},
   "outputs": [],
   "source": []
  }
 ],
 "metadata": {
  "kernelspec": {
   "display_name": "Python [conda env:base] *",
   "language": "python",
   "name": "conda-base-py"
  },
  "language_info": {
   "codemirror_mode": {
    "name": "ipython",
    "version": 3
   },
   "file_extension": ".py",
   "mimetype": "text/x-python",
   "name": "python",
   "nbconvert_exporter": "python",
   "pygments_lexer": "ipython3",
   "version": "3.12.7"
  }
 },
 "nbformat": 4,
 "nbformat_minor": 5
}
