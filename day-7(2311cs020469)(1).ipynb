{
 "cells": [
  {
   "cell_type": "code",
   "execution_count": 5,
   "id": "487fc13a-baa8-4443-b878-08a67234c08c",
   "metadata": {},
   "outputs": [
    {
     "name": "stdout",
     "output_type": "stream",
     "text": [
      "yes 35\n",
      "yes 30\n",
      "yes 25\n",
      "yes 20\n",
      "yes 15\n"
     ]
    }
   ],
   "source": [
    "x=35\n",
    "while x>10:\n",
    "    print('yes',x)\n",
    "    x=x-5"
   ]
  },
  {
   "cell_type": "code",
   "execution_count": 7,
   "id": "108b6096-ecea-4d8c-ab73-4b71818257b2",
   "metadata": {},
   "outputs": [
    {
     "data": {
      "text/plain": [
       "[40, 20, 80, 50, 30, 60, 90]"
      ]
     },
     "execution_count": 7,
     "metadata": {},
     "output_type": "execute_result"
    }
   ],
   "source": [
    "y=[40,20,80,50,30,60,90]\n",
    "y"
   ]
  },
  {
   "cell_type": "code",
   "execution_count": 9,
   "id": "730981fc-04c3-4eff-bb30-4c0710790a79",
   "metadata": {},
   "outputs": [
    {
     "data": {
      "text/plain": [
       "[40, 20, 80, 50, 30, 60, 90]"
      ]
     },
     "execution_count": 9,
     "metadata": {},
     "output_type": "execute_result"
    }
   ],
   "source": [
    "radius=[40,20,80,50,30,60,90]\n",
    "radius"
   ]
  },
  {
   "cell_type": "code",
   "execution_count": 11,
   "id": "a7a54e4c-4b8e-42d0-9055-fb23e03bfc40",
   "metadata": {},
   "outputs": [
    {
     "name": "stdout",
     "output_type": "stream",
     "text": [
      "5024.0\n",
      "1256.0\n",
      "20096.0\n",
      "7850.0\n",
      "2826.0\n",
      "11304.0\n",
      "25434.000000000004\n"
     ]
    }
   ],
   "source": [
    "for i in radius:\n",
    "    print(3.14*i*i)"
   ]
  },
  {
   "cell_type": "code",
   "execution_count": 13,
   "id": "e9a6cc16-5fb5-42d6-87f6-ab90d8ca6106",
   "metadata": {},
   "outputs": [],
   "source": [
    "area=[]\n",
    "for i in radius:\n",
    "    area.append(3.14*i*i)"
   ]
  },
  {
   "cell_type": "code",
   "execution_count": 15,
   "id": "48afa951-44d2-44cb-ac25-d6c184860c3d",
   "metadata": {},
   "outputs": [
    {
     "data": {
      "text/plain": [
       "[5024.0, 1256.0, 20096.0, 7850.0, 2826.0, 11304.0, 25434.000000000004]"
      ]
     },
     "execution_count": 15,
     "metadata": {},
     "output_type": "execute_result"
    }
   ],
   "source": [
    "area"
   ]
  },
  {
   "cell_type": "code",
   "execution_count": 17,
   "id": "9e2f18ef-8b33-48c6-9d32-4ba9719a47fc",
   "metadata": {},
   "outputs": [
    {
     "data": {
      "text/plain": [
       "[39, 45, 66, 93, 90, 78, 67, 87, 89, 93, 24, 59, 49, 91]"
      ]
     },
     "execution_count": 17,
     "metadata": {},
     "output_type": "execute_result"
    }
   ],
   "source": [
    "num=[39,45,66,93,90,78,67,87,89,93,24,59,49,91]\n",
    "num"
   ]
  },
  {
   "cell_type": "code",
   "execution_count": 19,
   "id": "2505f1bb-4d83-4817-8bf0-a3a97df71a7d",
   "metadata": {},
   "outputs": [
    {
     "name": "stdout",
     "output_type": "stream",
     "text": [
      "Even: [66, 90, 78, 24]\n",
      "Odd: [39, 45, 93, 67, 87, 89, 93, 59, 49, 91]\n"
     ]
    }
   ],
   "source": [
    "j=[]\n",
    "k=[]\n",
    "for  i in num:\n",
    "    if i%2==0:\n",
    "        j.append(i)\n",
    "    else:\n",
    "        k.append(i)\n",
    "print('Even:',j)\n",
    "print('Odd:',k)"
   ]
  },
  {
   "cell_type": "code",
   "execution_count": 21,
   "id": "6c0c9116-bfcf-4194-b5ca-227f3b6fd05b",
   "metadata": {},
   "outputs": [],
   "source": [
    "h=[]\n",
    "for i in num:\n",
    "    a=str(i)\n",
    "    b=a.replace('9','1')\n",
    "    c=int(b)\n",
    "    h.append(c)"
   ]
  },
  {
   "cell_type": "code",
   "execution_count": 23,
   "id": "49e543fe-d060-4091-8329-4b62f4e8f7bd",
   "metadata": {},
   "outputs": [
    {
     "data": {
      "text/plain": [
       "[31, 45, 66, 13, 10, 78, 67, 87, 81, 13, 24, 51, 41, 11]"
      ]
     },
     "execution_count": 23,
     "metadata": {},
     "output_type": "execute_result"
    }
   ],
   "source": [
    "h"
   ]
  },
  {
   "cell_type": "code",
   "execution_count": 25,
   "id": "cb7519c0-0328-4bf4-9282-d50a8251b931",
   "metadata": {},
   "outputs": [],
   "source": [
    "x='Software'\n",
    "y=''\n",
    "for i in x:\n",
    "    if i.lower() not in ('S','O'):\n",
    "        y+=i"
   ]
  },
  {
   "cell_type": "code",
   "execution_count": 27,
   "id": "c68a757e-c14a-4af7-842e-c90e0bf31270",
   "metadata": {},
   "outputs": [
    {
     "data": {
      "text/plain": [
       "'Software'"
      ]
     },
     "execution_count": 27,
     "metadata": {},
     "output_type": "execute_result"
    }
   ],
   "source": [
    "y"
   ]
  },
  {
   "cell_type": "code",
   "execution_count": null,
   "id": "f9dac0a4-6dc9-43bc-a30c-66c9c2846218",
   "metadata": {},
   "outputs": [],
   "source": []
  }
 ],
 "metadata": {
  "kernelspec": {
   "display_name": "Python [conda env:base] *",
   "language": "python",
   "name": "conda-base-py"
  },
  "language_info": {
   "codemirror_mode": {
    "name": "ipython",
    "version": 3
   },
   "file_extension": ".py",
   "mimetype": "text/x-python",
   "name": "python",
   "nbconvert_exporter": "python",
   "pygments_lexer": "ipython3",
   "version": "3.12.7"
  }
 },
 "nbformat": 4,
 "nbformat_minor": 5
}
