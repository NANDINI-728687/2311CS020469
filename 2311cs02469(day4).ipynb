{
 "cells": [
  {
   "cell_type": "code",
   "execution_count": 1,
   "id": "af67b451-9ced-44ee-a816-245550a66b6b",
   "metadata": {},
   "outputs": [
    {
     "name": "stdin",
     "output_type": "stream",
     "text": [
      "Enter a positive integer:  8\n"
     ]
    },
    {
     "name": "stdout",
     "output_type": "stream",
     "text": [
      "The sum of all even numbers between 1 and 8 is: 20\n"
     ]
    }
   ],
   "source": [
    "def sum_of_even_numbers(n):\n",
    "    total = 0\n",
    "    for i in range(2, n+1, 2): \n",
    "        total += i\n",
    "    return total\n",
    "\n",
    "n = int(input(\"Enter a positive integer: \"))\n",
    "result = sum_of_even_numbers(n)\n",
    "\n",
    "print(f\"The sum of all even numbers between 1 and {n} is: {result}\")\n"
   ]
  },
  {
   "cell_type": "code",
   "execution_count": null,
   "id": "be8c8d81-1825-4074-ab9e-3d1f45e5539a",
   "metadata": {},
   "outputs": [],
   "source": []
  }
 ],
 "metadata": {
  "kernelspec": {
   "display_name": "Python [conda env:base] *",
   "language": "python",
   "name": "conda-base-py"
  },
  "language_info": {
   "codemirror_mode": {
    "name": "ipython",
    "version": 3
   },
   "file_extension": ".py",
   "mimetype": "text/x-python",
   "name": "python",
   "nbconvert_exporter": "python",
   "pygments_lexer": "ipython3",
   "version": "3.12.7"
  }
 },
 "nbformat": 4,
 "nbformat_minor": 5
}
