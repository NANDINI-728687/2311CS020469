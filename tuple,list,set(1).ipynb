{
 "cells": [
  {
   "cell_type": "code",
   "execution_count": 1,
   "id": "bfe6c142-315a-4cf0-b04c-c245689cc1a8",
   "metadata": {},
   "outputs": [],
   "source": [
    "## TOPIC:tuple,set\n",
    "\n",
    "h=(40,50,60,70,80)"
   ]
  },
  {
   "cell_type": "code",
   "execution_count": 3,
   "id": "7d16f1d2-00c1-4662-987a-eaf231f2aba6",
   "metadata": {},
   "outputs": [
    {
     "data": {
      "text/plain": [
       "(40, 50, 60, 70, 80)"
      ]
     },
     "execution_count": 3,
     "metadata": {},
     "output_type": "execute_result"
    }
   ],
   "source": [
    "h"
   ]
  },
  {
   "cell_type": "code",
   "execution_count": 5,
   "id": "45325660-97a4-4659-aaef-6f71548613b1",
   "metadata": {},
   "outputs": [
    {
     "data": {
      "text/plain": [
       "tuple"
      ]
     },
     "execution_count": 5,
     "metadata": {},
     "output_type": "execute_result"
    }
   ],
   "source": [
    "type(h)"
   ]
  },
  {
   "cell_type": "code",
   "execution_count": 7,
   "id": "aa4d5d80-b5ff-4917-90a0-3546c96794e9",
   "metadata": {},
   "outputs": [
    {
     "data": {
      "text/plain": [
       "1"
      ]
     },
     "execution_count": 7,
     "metadata": {},
     "output_type": "execute_result"
    }
   ],
   "source": [
    "h.count(40)"
   ]
  },
  {
   "cell_type": "code",
   "execution_count": 9,
   "id": "6c4de57b-60f7-46e7-ba18-880c61a5378d",
   "metadata": {},
   "outputs": [
    {
     "data": {
      "text/plain": [
       "1"
      ]
     },
     "execution_count": 9,
     "metadata": {},
     "output_type": "execute_result"
    }
   ],
   "source": [
    "h.count(60)"
   ]
  },
  {
   "cell_type": "code",
   "execution_count": 11,
   "id": "42c5b8bd-2282-42f6-8bda-a73a3ee56cee",
   "metadata": {},
   "outputs": [
    {
     "data": {
      "text/plain": [
       "0"
      ]
     },
     "execution_count": 11,
     "metadata": {},
     "output_type": "execute_result"
    }
   ],
   "source": [
    "h.count(20)"
   ]
  },
  {
   "cell_type": "code",
   "execution_count": 13,
   "id": "97b9a67f-2e2f-4482-8ff7-d5e6a9c7d76f",
   "metadata": {},
   "outputs": [
    {
     "data": {
      "text/plain": [
       "0"
      ]
     },
     "execution_count": 13,
     "metadata": {},
     "output_type": "execute_result"
    }
   ],
   "source": [
    "h.index(40)"
   ]
  },
  {
   "cell_type": "code",
   "execution_count": 15,
   "id": "72dc0dd2-a93d-4516-9c71-30532bb7131c",
   "metadata": {},
   "outputs": [
    {
     "data": {
      "text/plain": [
       "(40, 50, 60)"
      ]
     },
     "execution_count": 15,
     "metadata": {},
     "output_type": "execute_result"
    }
   ],
   "source": [
    "h[0:3]"
   ]
  },
  {
   "cell_type": "code",
   "execution_count": 17,
   "id": "11b21c5f-7556-4b99-99d5-7231ae71ee32",
   "metadata": {},
   "outputs": [],
   "source": [
    "s={30,40,50,60,70}"
   ]
  },
  {
   "cell_type": "code",
   "execution_count": 19,
   "id": "43d67d93-1366-4935-bff2-4a0ea0ad7e69",
   "metadata": {},
   "outputs": [
    {
     "data": {
      "text/plain": [
       "{30, 40, 50, 60, 70}"
      ]
     },
     "execution_count": 19,
     "metadata": {},
     "output_type": "execute_result"
    }
   ],
   "source": [
    "s"
   ]
  },
  {
   "cell_type": "code",
   "execution_count": 21,
   "id": "7234ed6b-2d22-435a-9045-c7c7cab97d4c",
   "metadata": {},
   "outputs": [
    {
     "data": {
      "text/plain": [
       "set"
      ]
     },
     "execution_count": 21,
     "metadata": {},
     "output_type": "execute_result"
    }
   ],
   "source": [
    "type(s)"
   ]
  },
  {
   "cell_type": "code",
   "execution_count": 23,
   "id": "9edb2102-cb6f-4415-bd25-58a621bc34a0",
   "metadata": {},
   "outputs": [
    {
     "data": {
      "text/plain": [
       "{30, 40, 50, 60, 70}"
      ]
     },
     "execution_count": 23,
     "metadata": {},
     "output_type": "execute_result"
    }
   ],
   "source": [
    "s"
   ]
  },
  {
   "cell_type": "code",
   "execution_count": 25,
   "id": "a5422cda-a2b9-4896-b2be-6d32aa3754d0",
   "metadata": {},
   "outputs": [],
   "source": [
    "s.add(50)"
   ]
  },
  {
   "cell_type": "code",
   "execution_count": 27,
   "id": "b8a83488-8399-43b3-983c-c63c10b41b5e",
   "metadata": {},
   "outputs": [
    {
     "data": {
      "text/plain": [
       "{30, 40, 50, 60, 70}"
      ]
     },
     "execution_count": 27,
     "metadata": {},
     "output_type": "execute_result"
    }
   ],
   "source": [
    "s"
   ]
  },
  {
   "cell_type": "code",
   "execution_count": 29,
   "id": "0cdb151f-ab1a-4e57-a176-1a9801de2dc0",
   "metadata": {},
   "outputs": [],
   "source": [
    "s.add(66)"
   ]
  },
  {
   "cell_type": "code",
   "execution_count": 31,
   "id": "810826fb-d343-41b8-940e-2c8c6d65c34a",
   "metadata": {},
   "outputs": [
    {
     "data": {
      "text/plain": [
       "{30, 40, 50, 60, 66, 70}"
      ]
     },
     "execution_count": 31,
     "metadata": {},
     "output_type": "execute_result"
    }
   ],
   "source": [
    "s"
   ]
  },
  {
   "cell_type": "code",
   "execution_count": 33,
   "id": "97f1a1b6-eaab-4828-92c6-1513c4624ec7",
   "metadata": {},
   "outputs": [],
   "source": [
    "s.remove(40)"
   ]
  },
  {
   "cell_type": "code",
   "execution_count": 35,
   "id": "4409b1e5-25ba-49c9-af83-ab82b724c972",
   "metadata": {},
   "outputs": [
    {
     "data": {
      "text/plain": [
       "{30, 50, 60, 66, 70}"
      ]
     },
     "execution_count": 35,
     "metadata": {},
     "output_type": "execute_result"
    }
   ],
   "source": [
    "s"
   ]
  },
  {
   "cell_type": "code",
   "execution_count": 37,
   "id": "1a6f425c-6e32-4850-9ff7-4206f5612412",
   "metadata": {},
   "outputs": [],
   "source": [
    "s.add(55)"
   ]
  },
  {
   "cell_type": "code",
   "execution_count": 39,
   "id": "90f341ec-f5e0-41df-8af6-ef421607f595",
   "metadata": {},
   "outputs": [
    {
     "data": {
      "text/plain": [
       "{30, 50, 55, 60, 66, 70}"
      ]
     },
     "execution_count": 39,
     "metadata": {},
     "output_type": "execute_result"
    }
   ],
   "source": [
    "s"
   ]
  },
  {
   "cell_type": "code",
   "execution_count": 41,
   "id": "f28b5c01-68cb-4b52-81c4-b05f0eb0c7bd",
   "metadata": {},
   "outputs": [
    {
     "data": {
      "text/plain": [
       "(30, 32, 345, 22)"
      ]
     },
     "execution_count": 41,
     "metadata": {},
     "output_type": "execute_result"
    }
   ],
   "source": [
    "y=(30,32,345,22)\n",
    "y"
   ]
  },
  {
   "cell_type": "code",
   "execution_count": 43,
   "id": "2d3dedbd-a159-4b31-ae85-a031ecb78ef7",
   "metadata": {},
   "outputs": [
    {
     "data": {
      "text/plain": [
       "tuple"
      ]
     },
     "execution_count": 43,
     "metadata": {},
     "output_type": "execute_result"
    }
   ],
   "source": [
    "type(y)"
   ]
  },
  {
   "cell_type": "code",
   "execution_count": 45,
   "id": "0ced1981-0709-470c-bcf7-7792dc355691",
   "metadata": {},
   "outputs": [
    {
     "data": {
      "text/plain": [
       "(30, 32, 345, 22)"
      ]
     },
     "execution_count": 45,
     "metadata": {},
     "output_type": "execute_result"
    }
   ],
   "source": [
    "y"
   ]
  },
  {
   "cell_type": "code",
   "execution_count": 47,
   "id": "382eb136-ade9-4b81-8a5e-c8e8618f22f8",
   "metadata": {},
   "outputs": [
    {
     "data": {
      "text/plain": [
       "{50, 55, 60, 66, 70}"
      ]
     },
     "execution_count": 47,
     "metadata": {},
     "output_type": "execute_result"
    }
   ],
   "source": [
    "s.difference(y)"
   ]
  },
  {
   "cell_type": "code",
   "execution_count": 49,
   "id": "b1ef8360-ca4a-4722-b412-2877c609b3a0",
   "metadata": {},
   "outputs": [
    {
     "data": {
      "text/plain": [
       "{30}"
      ]
     },
     "execution_count": 49,
     "metadata": {},
     "output_type": "execute_result"
    }
   ],
   "source": [
    "s.intersection(y)"
   ]
  },
  {
   "cell_type": "code",
   "execution_count": 53,
   "id": "ba3d2928-7ac8-4382-ace9-a28154cac507",
   "metadata": {},
   "outputs": [
    {
     "data": {
      "text/plain": [
       "{22, 32, 50, 55, 60, 66, 70, 345}"
      ]
     },
     "execution_count": 53,
     "metadata": {},
     "output_type": "execute_result"
    }
   ],
   "source": [
    "s.symmetric_difference(y)"
   ]
  },
  {
   "cell_type": "code",
   "execution_count": 55,
   "id": "7f7cd4ef-07c4-4cfa-876c-a5800efa536a",
   "metadata": {},
   "outputs": [
    {
     "data": {
      "text/plain": [
       "{30, 50, 55, 60, 66, 70}"
      ]
     },
     "execution_count": 55,
     "metadata": {},
     "output_type": "execute_result"
    }
   ],
   "source": [
    "s"
   ]
  },
  {
   "cell_type": "code",
   "execution_count": 57,
   "id": "87fc7380-7329-474d-bf52-6bb560c47c56",
   "metadata": {},
   "outputs": [],
   "source": [
    "a=(40,50,60,70)"
   ]
  },
  {
   "cell_type": "code",
   "execution_count": 59,
   "id": "dfd225d9-103f-415a-8f87-35d1420ebaab",
   "metadata": {},
   "outputs": [
    {
     "data": {
      "text/plain": [
       "(40, 50, 60, 70)"
      ]
     },
     "execution_count": 59,
     "metadata": {},
     "output_type": "execute_result"
    }
   ],
   "source": [
    "a"
   ]
  },
  {
   "cell_type": "code",
   "execution_count": 61,
   "id": "f650f3d6-c1b3-4b61-9853-cc446b1bb41f",
   "metadata": {},
   "outputs": [
    {
     "data": {
      "text/plain": [
       "tuple"
      ]
     },
     "execution_count": 61,
     "metadata": {},
     "output_type": "execute_result"
    }
   ],
   "source": [
    "type(a)"
   ]
  },
  {
   "cell_type": "code",
   "execution_count": 63,
   "id": "e033937e-add9-446d-970d-e3d4903de146",
   "metadata": {},
   "outputs": [
    {
     "data": {
      "text/plain": [
       "[40, 50, 60, 70]"
      ]
     },
     "execution_count": 63,
     "metadata": {},
     "output_type": "execute_result"
    }
   ],
   "source": [
    "list(a)"
   ]
  },
  {
   "cell_type": "code",
   "execution_count": 65,
   "id": "67f15cee-08a7-401f-8a29-1aac5909bda7",
   "metadata": {},
   "outputs": [],
   "source": [
    "d=list(a)"
   ]
  },
  {
   "cell_type": "code",
   "execution_count": 67,
   "id": "79543103-d3a2-4c74-a2b1-fc2d0261cf7f",
   "metadata": {},
   "outputs": [
    {
     "data": {
      "text/plain": [
       "[40, 50, 60, 70]"
      ]
     },
     "execution_count": 67,
     "metadata": {},
     "output_type": "execute_result"
    }
   ],
   "source": [
    "d"
   ]
  },
  {
   "cell_type": "code",
   "execution_count": 69,
   "id": "8514eef2-9a83-4fcd-86e5-92d035805951",
   "metadata": {},
   "outputs": [],
   "source": [
    "d.append(20)"
   ]
  },
  {
   "cell_type": "code",
   "execution_count": 71,
   "id": "73675d52-614d-4653-a06c-ff08764f9cdd",
   "metadata": {},
   "outputs": [
    {
     "data": {
      "text/plain": [
       "[40, 50, 60, 70, 20]"
      ]
     },
     "execution_count": 71,
     "metadata": {},
     "output_type": "execute_result"
    }
   ],
   "source": [
    "d"
   ]
  },
  {
   "cell_type": "code",
   "execution_count": 73,
   "id": "71a195fd-aabc-41e7-89f6-3b6a5a760522",
   "metadata": {},
   "outputs": [
    {
     "data": {
      "text/plain": [
       "tuple"
      ]
     },
     "execution_count": 73,
     "metadata": {},
     "output_type": "execute_result"
    }
   ],
   "source": [
    "type(a)"
   ]
  },
  {
   "cell_type": "code",
   "execution_count": 75,
   "id": "9429cd01-530d-4a02-b769-ef1c472db1f3",
   "metadata": {},
   "outputs": [],
   "source": [
    "a=[1,2,3]"
   ]
  },
  {
   "cell_type": "code",
   "execution_count": 77,
   "id": "fcf2ac33-b998-4e67-96aa-d7ebea799f2a",
   "metadata": {},
   "outputs": [
    {
     "data": {
      "text/plain": [
       "[1, 2, 3]"
      ]
     },
     "execution_count": 77,
     "metadata": {},
     "output_type": "execute_result"
    }
   ],
   "source": [
    "a"
   ]
  },
  {
   "cell_type": "code",
   "execution_count": 79,
   "id": "2acd6dd4-08b0-4ee3-9ea3-e5514bf0ec4c",
   "metadata": {},
   "outputs": [
    {
     "data": {
      "text/plain": [
       "list"
      ]
     },
     "execution_count": 79,
     "metadata": {},
     "output_type": "execute_result"
    }
   ],
   "source": [
    "type(a)"
   ]
  },
  {
   "cell_type": "code",
   "execution_count": 81,
   "id": "5c5ea1cf-355f-4261-890a-7a251c709f5a",
   "metadata": {},
   "outputs": [],
   "source": [
    "a=(1,2,34,5,6)"
   ]
  },
  {
   "cell_type": "code",
   "execution_count": 83,
   "id": "bea8921f-6a53-4734-b33e-7a2e8400af49",
   "metadata": {},
   "outputs": [
    {
     "data": {
      "text/plain": [
       "(1, 2, 34, 5, 6)"
      ]
     },
     "execution_count": 83,
     "metadata": {},
     "output_type": "execute_result"
    }
   ],
   "source": [
    "a"
   ]
  },
  {
   "cell_type": "code",
   "execution_count": 85,
   "id": "df833356-8fd8-4292-b499-7f6be9b2a653",
   "metadata": {},
   "outputs": [
    {
     "data": {
      "text/plain": [
       "tuple"
      ]
     },
     "execution_count": 85,
     "metadata": {},
     "output_type": "execute_result"
    }
   ],
   "source": [
    "type(a)"
   ]
  },
  {
   "cell_type": "code",
   "execution_count": 87,
   "id": "4f1578a2-80da-4a38-82e0-f5a4bcda9921",
   "metadata": {},
   "outputs": [],
   "source": [
    "a={1,2,3,45,5,43}"
   ]
  },
  {
   "cell_type": "code",
   "execution_count": 89,
   "id": "ea179732-46d7-4d54-94d0-296db7d0d9a8",
   "metadata": {},
   "outputs": [
    {
     "data": {
      "text/plain": [
       "{1, 2, 3, 5, 43, 45}"
      ]
     },
     "execution_count": 89,
     "metadata": {},
     "output_type": "execute_result"
    }
   ],
   "source": [
    "a"
   ]
  },
  {
   "cell_type": "code",
   "execution_count": 91,
   "id": "c1199f1b-3be6-4ce2-8b3f-7923a0bc25aa",
   "metadata": {},
   "outputs": [
    {
     "data": {
      "text/plain": [
       "set"
      ]
     },
     "execution_count": 91,
     "metadata": {},
     "output_type": "execute_result"
    }
   ],
   "source": [
    "type(a)"
   ]
  },
  {
   "cell_type": "code",
   "execution_count": null,
   "id": "98534efc-acfa-4221-a987-d3a7536a4cc5",
   "metadata": {},
   "outputs": [],
   "source": []
  }
 ],
 "metadata": {
  "kernelspec": {
   "display_name": "Python [conda env:base] *",
   "language": "python",
   "name": "conda-base-py"
  },
  "language_info": {
   "codemirror_mode": {
    "name": "ipython",
    "version": 3
   },
   "file_extension": ".py",
   "mimetype": "text/x-python",
   "name": "python",
   "nbconvert_exporter": "python",
   "pygments_lexer": "ipython3",
   "version": "3.12.7"
  }
 },
 "nbformat": 4,
 "nbformat_minor": 5
}
