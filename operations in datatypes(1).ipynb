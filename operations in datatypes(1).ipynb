{
 "cells": [
  {
   "cell_type": "code",
   "execution_count": 1,
   "id": "52055381-bafc-433d-b215-2ff07125c7d0",
   "metadata": {},
   "outputs": [
    {
     "data": {
      "text/plain": [
       "87"
      ]
     },
     "execution_count": 1,
     "metadata": {},
     "output_type": "execute_result"
    }
   ],
   "source": [
    "a=87\n",
    "a"
   ]
  },
  {
   "cell_type": "code",
   "execution_count": 3,
   "id": "4268f4e7-a2ca-4e57-8a54-5cf5d28a5379",
   "metadata": {},
   "outputs": [
    {
     "data": {
      "text/plain": [
       "1051"
      ]
     },
     "execution_count": 3,
     "metadata": {},
     "output_type": "execute_result"
    }
   ],
   "source": [
    "a=65\n",
    "b=986\n",
    "c=a+b\n",
    "c"
   ]
  },
  {
   "cell_type": "code",
   "execution_count": 5,
   "id": "197fdfc3-5e01-49e8-9c1d-d40014be0942",
   "metadata": {},
   "outputs": [
    {
     "data": {
      "text/plain": [
       "-502"
      ]
     },
     "execution_count": 5,
     "metadata": {},
     "output_type": "execute_result"
    }
   ],
   "source": [
    "d=567\n",
    "d=a-d\n",
    "d"
   ]
  },
  {
   "cell_type": "code",
   "execution_count": 7,
   "id": "741642f5-44a4-4cdc-a84c-9673afa23ac7",
   "metadata": {},
   "outputs": [
    {
     "data": {
      "text/plain": [
       "0.06592292089249494"
      ]
     },
     "execution_count": 7,
     "metadata": {},
     "output_type": "execute_result"
    }
   ],
   "source": [
    "a/b"
   ]
  },
  {
   "cell_type": "code",
   "execution_count": 13,
   "id": "f05daa31-810a-4ada-8a44-5cfb8af5307b",
   "metadata": {},
   "outputs": [],
   "source": [
    "### addition +\n",
    "### substraction -\n",
    "### multiplication *\n",
    "### divison /\n",
    "### remainder %\n",
    "### power **\n",
    "### // floor divison"
   ]
  },
  {
   "cell_type": "code",
   "execution_count": 11,
   "id": "0c08828e-c217-48ae-8f23-8cd2fc5fcc69",
   "metadata": {},
   "outputs": [
    {
     "data": {
      "text/plain": [
       "340854984939701543697466551157009134120556441904843489814497572887694331276663939508892548685563907365839357194611062960790380326353053644607235973255195332085336105457463261395254860016022052387660370989696165499009438653232228056082816995781556987014401909934048109361606312148920902713890622223907754125813933777935464268407289099158256323347744927281721049887532071505546210890732390901899010102680842511665399826415848476363927188155309444959678503861383910498164475192243271129912774960594011993392926757751331696240207393261125031298468679184564201759024718108521725584325239933217389042706674495777411234441313733076536447559446243033089886225661198152858120327114236843650371733335072432868758520247886664127716603313057422813087488758074589763014122092313988150508012731239184030049993224499348032729987983564717386307002113183842694328457027758231690684889986857689160232040831178006655409334536049006975704184725190970167284726639077269743449208131945330502976730655836355116867320458144022067340472467848955911635861744926623033975121568329502245410625716017148538289507714597541993408208437545923553850558565403987622612804782821426601806125154674382336057467186586047661142244494734934696610566348881136096932547469660624419264745018339161635371332669376629745034833820813076987856824925960079132685892859053878494459598319191680073135438100285410115544160795737579851022766029611312864275145814839608260952982107556919985967896732758151524810429711056005095327575034176497468361323418182779343746962852841478501149565389898560194268003303127436856890019623371343458747314936940026755757210615489250811718319348592281857394554844956208716495684705216078004798192195467573258279976702194981981365378222530985463223510973470974303443405128977161666625761426985263824462890625"
      ]
     },
     "execution_count": 11,
     "metadata": {},
     "output_type": "execute_result"
    }
   ],
   "source": [
    "a**b"
   ]
  },
  {
   "cell_type": "code",
   "execution_count": 15,
   "id": "5afb2b9b-2c3f-4b1c-886d-f9ca3ffd834c",
   "metadata": {},
   "outputs": [
    {
     "data": {
      "text/plain": [
       "65"
      ]
     },
     "execution_count": 15,
     "metadata": {},
     "output_type": "execute_result"
    }
   ],
   "source": [
    "a%b"
   ]
  },
  {
   "cell_type": "code",
   "execution_count": 17,
   "id": "8f91422f-984d-4ef0-a347-30a7280ce650",
   "metadata": {},
   "outputs": [
    {
     "data": {
      "text/plain": [
       "1051"
      ]
     },
     "execution_count": 17,
     "metadata": {},
     "output_type": "execute_result"
    }
   ],
   "source": [
    "a+b"
   ]
  },
  {
   "cell_type": "code",
   "execution_count": 19,
   "id": "6da1dbb8-08f0-4c12-b4c2-f12e4297d2f8",
   "metadata": {},
   "outputs": [
    {
     "data": {
      "text/plain": [
       "0"
      ]
     },
     "execution_count": 19,
     "metadata": {},
     "output_type": "execute_result"
    }
   ],
   "source": [
    "a//b"
   ]
  },
  {
   "cell_type": "code",
   "execution_count": 21,
   "id": "dac542f7-96fa-4cd2-9075-fb70e214fa28",
   "metadata": {},
   "outputs": [
    {
     "name": "stdout",
     "output_type": "stream",
     "text": [
      "87\n",
      "98\n"
     ]
    }
   ],
   "source": [
    "a=87\n",
    "b=98\n",
    "print(a)\n",
    "print(b)"
   ]
  },
  {
   "cell_type": "code",
   "execution_count": 23,
   "id": "3665eda0-f7d3-4d48-993b-6461d1e20360",
   "metadata": {},
   "outputs": [
    {
     "name": "stdout",
     "output_type": "stream",
     "text": [
      "98\n"
     ]
    }
   ],
   "source": [
    "print(b)"
   ]
  },
  {
   "cell_type": "code",
   "execution_count": 25,
   "id": "6f6a305f-37ae-4e0e-866b-ff4bc4e752f4",
   "metadata": {},
   "outputs": [
    {
     "name": "stdout",
     "output_type": "stream",
     "text": [
      "185\n"
     ]
    }
   ],
   "source": [
    "c=a+b\n",
    "print(c)"
   ]
  },
  {
   "cell_type": "code",
   "execution_count": 27,
   "id": "78a3ec3e-a918-48a4-9151-3510084fd0a4",
   "metadata": {},
   "outputs": [
    {
     "name": "stdout",
     "output_type": "stream",
     "text": [
      "6\n"
     ]
    }
   ],
   "source": [
    "a=6\n",
    "b=8\n",
    "print(a)"
   ]
  },
  {
   "cell_type": "code",
   "execution_count": 29,
   "id": "0440f976-35be-4243-81b1-0ce31c1996c1",
   "metadata": {},
   "outputs": [
    {
     "name": "stdout",
     "output_type": "stream",
     "text": [
      "185\n"
     ]
    }
   ],
   "source": [
    "print(c)"
   ]
  },
  {
   "cell_type": "code",
   "execution_count": 31,
   "id": "eb88ba96-724b-45f9-9b5f-6f9d2c44a3c5",
   "metadata": {},
   "outputs": [
    {
     "data": {
      "text/plain": [
       "int"
      ]
     },
     "execution_count": 31,
     "metadata": {},
     "output_type": "execute_result"
    }
   ],
   "source": [
    "type(c)"
   ]
  },
  {
   "cell_type": "code",
   "execution_count": 33,
   "id": "0d850129-b357-4db9-9da9-b7111a7e6c06",
   "metadata": {},
   "outputs": [
    {
     "name": "stdout",
     "output_type": "stream",
     "text": [
      "9.6\n"
     ]
    }
   ],
   "source": [
    "a=9.6\n",
    "b=8.9\n",
    "print(a)"
   ]
  },
  {
   "cell_type": "code",
   "execution_count": 35,
   "id": "e4f0b397-01f4-4dac-8101-42d4a0d228fb",
   "metadata": {},
   "outputs": [
    {
     "data": {
      "text/plain": [
       "float"
      ]
     },
     "execution_count": 35,
     "metadata": {},
     "output_type": "execute_result"
    }
   ],
   "source": [
    "type(a)"
   ]
  },
  {
   "cell_type": "code",
   "execution_count": 37,
   "id": "7a640c02-502e-4e6d-ae77-041d21e23053",
   "metadata": {},
   "outputs": [
    {
     "name": "stdout",
     "output_type": "stream",
     "text": [
      "0\n"
     ]
    }
   ],
   "source": [
    "a=9\n",
    "b=9\n",
    "c=a-b\n",
    "print(c)"
   ]
  },
  {
   "cell_type": "code",
   "execution_count": 39,
   "id": "5753a230-a232-4650-8058-ca57d50e2115",
   "metadata": {},
   "outputs": [
    {
     "data": {
      "text/plain": [
       "int"
      ]
     },
     "execution_count": 39,
     "metadata": {},
     "output_type": "execute_result"
    }
   ],
   "source": [
    "type(c)"
   ]
  },
  {
   "cell_type": "code",
   "execution_count": 41,
   "id": "4d337528-4e10-40a7-9680-c391be13b1ca",
   "metadata": {},
   "outputs": [
    {
     "data": {
      "text/plain": [
       "12"
      ]
     },
     "execution_count": 41,
     "metadata": {},
     "output_type": "execute_result"
    }
   ],
   "source": [
    "a=3\n",
    "b=4\n",
    "c=a*b\n",
    "c"
   ]
  },
  {
   "cell_type": "code",
   "execution_count": 43,
   "id": "5a3a38e1-295b-4b91-a9ad-c9251b819c22",
   "metadata": {},
   "outputs": [
    {
     "data": {
      "text/plain": [
       "1.125"
      ]
     },
     "execution_count": 43,
     "metadata": {},
     "output_type": "execute_result"
    }
   ],
   "source": [
    "a=9\n",
    "b=8\n",
    "c=a/b\n",
    "c"
   ]
  },
  {
   "cell_type": "code",
   "execution_count": 45,
   "id": "55a16b74-0cf3-4d14-ab7b-496aa6f1f266",
   "metadata": {},
   "outputs": [
    {
     "data": {
      "text/plain": [
       "2097152"
      ]
     },
     "execution_count": 45,
     "metadata": {},
     "output_type": "execute_result"
    }
   ],
   "source": [
    "a=8\n",
    "b=7\n",
    "c=a**b\n",
    "c"
   ]
  },
  {
   "cell_type": "code",
   "execution_count": 47,
   "id": "1d5d580b-8236-4830-b40a-4a1f248fe78b",
   "metadata": {},
   "outputs": [
    {
     "data": {
      "text/plain": [
       "3"
      ]
     },
     "execution_count": 47,
     "metadata": {},
     "output_type": "execute_result"
    }
   ],
   "source": [
    "a=9\n",
    "b=6\n",
    "c=a%b\n",
    "c"
   ]
  },
  {
   "cell_type": "code",
   "execution_count": 49,
   "id": "d7d7ae4a-dd36-4402-a0cf-c3aa2f01d790",
   "metadata": {},
   "outputs": [
    {
     "data": {
      "text/plain": [
       "2"
      ]
     },
     "execution_count": 49,
     "metadata": {},
     "output_type": "execute_result"
    }
   ],
   "source": [
    "a=7\n",
    "b=3\n",
    "c=a//b\n",
    "c"
   ]
  },
  {
   "cell_type": "code",
   "execution_count": 51,
   "id": "f865c5bd-3a86-4f4c-b235-d1b509997a05",
   "metadata": {},
   "outputs": [],
   "source": [
    "x=5\n",
    "b=57.5"
   ]
  },
  {
   "cell_type": "code",
   "execution_count": 53,
   "id": "2016c134-89ef-4d67-8707-8719bc101731",
   "metadata": {},
   "outputs": [
    {
     "name": "stdout",
     "output_type": "stream",
     "text": [
      "5\n"
     ]
    }
   ],
   "source": [
    "print(x)"
   ]
  },
  {
   "cell_type": "code",
   "execution_count": 55,
   "id": "c804ab8e-93a7-4fee-9b83-73d833379f39",
   "metadata": {},
   "outputs": [
    {
     "data": {
      "text/plain": [
       "True"
      ]
     },
     "execution_count": 55,
     "metadata": {},
     "output_type": "execute_result"
    }
   ],
   "source": [
    "45 > 6"
   ]
  },
  {
   "cell_type": "code",
   "execution_count": 57,
   "id": "29f1afe0-fe53-4d8b-96cd-fc27bc7d64b4",
   "metadata": {},
   "outputs": [
    {
     "data": {
      "text/plain": [
       "False"
      ]
     },
     "execution_count": 57,
     "metadata": {},
     "output_type": "execute_result"
    }
   ],
   "source": [
    "9<6"
   ]
  },
  {
   "cell_type": "code",
   "execution_count": 59,
   "id": "6fec7ea4-a466-4e6d-9456-876327ed69b0",
   "metadata": {},
   "outputs": [
    {
     "data": {
      "text/plain": [
       "False"
      ]
     },
     "execution_count": 59,
     "metadata": {},
     "output_type": "execute_result"
    }
   ],
   "source": [
    "6>45"
   ]
  },
  {
   "cell_type": "code",
   "execution_count": 61,
   "id": "4429d804-c779-428d-a5e2-d6a05f045d87",
   "metadata": {},
   "outputs": [
    {
     "data": {
      "text/plain": [
       "False"
      ]
     },
     "execution_count": 61,
     "metadata": {},
     "output_type": "execute_result"
    }
   ],
   "source": [
    "a='hii'\n",
    "b='HII'\n",
    "a==b"
   ]
  },
  {
   "cell_type": "code",
   "execution_count": 63,
   "id": "c18cd1cb-b163-45f2-ae05-71a1e4669f83",
   "metadata": {},
   "outputs": [
    {
     "data": {
      "text/plain": [
       "True"
      ]
     },
     "execution_count": 63,
     "metadata": {},
     "output_type": "execute_result"
    }
   ],
   "source": [
    "a != b"
   ]
  },
  {
   "cell_type": "code",
   "execution_count": 65,
   "id": "dd227749-3cdc-40b9-b92f-eade3cece3a7",
   "metadata": {},
   "outputs": [
    {
     "name": "stdout",
     "output_type": "stream",
     "text": [
      "hii\n"
     ]
    }
   ],
   "source": [
    "print(a)"
   ]
  },
  {
   "cell_type": "code",
   "execution_count": 67,
   "id": "eeefe0ac-4b8f-4358-afa4-bcb280b22135",
   "metadata": {},
   "outputs": [
    {
     "data": {
      "text/plain": [
       "str"
      ]
     },
     "execution_count": 67,
     "metadata": {},
     "output_type": "execute_result"
    }
   ],
   "source": [
    "type(a)"
   ]
  },
  {
   "cell_type": "code",
   "execution_count": 69,
   "id": "2c12e7f4-cb24-4122-85e9-f6d911adb43e",
   "metadata": {},
   "outputs": [
    {
     "data": {
      "text/plain": [
       "False"
      ]
     },
     "execution_count": 69,
     "metadata": {},
     "output_type": "execute_result"
    }
   ],
   "source": [
    "x=5\n",
    "y=8.5\n",
    "x>y"
   ]
  },
  {
   "cell_type": "code",
   "execution_count": 71,
   "id": "1f357c68-06e1-41c8-88bb-dc7c613eeebc",
   "metadata": {},
   "outputs": [
    {
     "data": {
      "text/plain": [
       "True"
      ]
     },
     "execution_count": 71,
     "metadata": {},
     "output_type": "execute_result"
    }
   ],
   "source": [
    "x<y"
   ]
  },
  {
   "cell_type": "code",
   "execution_count": 73,
   "id": "98815c59-325e-40f6-9bdf-ba70b762b14c",
   "metadata": {},
   "outputs": [],
   "source": [
    "#logical operators\n",
    "# AND OR"
   ]
  },
  {
   "cell_type": "code",
   "execution_count": 75,
   "id": "d9a35ad2-1e53-4504-9c3a-88a73d4d3646",
   "metadata": {},
   "outputs": [
    {
     "data": {
      "text/plain": [
       "False"
      ]
     },
     "execution_count": 75,
     "metadata": {},
     "output_type": "execute_result"
    }
   ],
   "source": [
    "a=6\n",
    "b=8\n",
    "a>b"
   ]
  },
  {
   "cell_type": "code",
   "execution_count": 77,
   "id": "8b924163-6609-4930-a19f-e9f98af8a98a",
   "metadata": {},
   "outputs": [
    {
     "data": {
      "text/plain": [
       "False"
      ]
     },
     "execution_count": 77,
     "metadata": {},
     "output_type": "execute_result"
    }
   ],
   "source": [
    "a>7"
   ]
  },
  {
   "cell_type": "code",
   "execution_count": 79,
   "id": "10514da5-64c0-4ee0-a814-6242dbc11c4d",
   "metadata": {},
   "outputs": [
    {
     "data": {
      "text/plain": [
       "False"
      ]
     },
     "execution_count": 79,
     "metadata": {},
     "output_type": "execute_result"
    }
   ],
   "source": [
    "a>7 and b>100"
   ]
  },
  {
   "cell_type": "code",
   "execution_count": null,
   "id": "55eb3532-93e0-420d-a5d2-00d711033ca7",
   "metadata": {},
   "outputs": [],
   "source": [
    "True and True = True\n",
    "True and False = False\n",
    "False and True = False\n",
    "False and False = False\n"
   ]
  },
  {
   "cell_type": "code",
   "execution_count": 83,
   "id": "e57634de-d932-4abd-a6c5-e88bac66055a",
   "metadata": {},
   "outputs": [
    {
     "data": {
      "text/plain": [
       "False"
      ]
     },
     "execution_count": 83,
     "metadata": {},
     "output_type": "execute_result"
    }
   ],
   "source": [
    "a>b or a > 7"
   ]
  },
  {
   "cell_type": "code",
   "execution_count": null,
   "id": "4461472c-d2ac-4f9b-b82e-9af19b4744de",
   "metadata": {},
   "outputs": [],
   "source": [
    "t or t  = t\n",
    "t or f  = t\n",
    "f or t  = t\n",
    "f or f  = f\n"
   ]
  },
  {
   "cell_type": "code",
   "execution_count": null,
   "id": "986700ed-ff06-4a84-bf2c-070ce27ea978",
   "metadata": {},
   "outputs": [],
   "source": [
    "t or t  = t\n",
    "t or f  = t\n",
    "f or t  = t\n",
    "f or f  = f"
   ]
  },
  {
   "cell_type": "code",
   "execution_count": null,
   "id": "0ad77f2b-19b9-4909-aedb-ca7eb1767d8a",
   "metadata": {},
   "outputs": [],
   "source": [
    "True and True = T\n",
    "T and F = F\n",
    "f and t = f\n",
    "f and f = f"
   ]
  }
 ],
 "metadata": {
  "kernelspec": {
   "display_name": "Python [conda env:base] *",
   "language": "python",
   "name": "conda-base-py"
  },
  "language_info": {
   "codemirror_mode": {
    "name": "ipython",
    "version": 3
   },
   "file_extension": ".py",
   "mimetype": "text/x-python",
   "name": "python",
   "nbconvert_exporter": "python",
   "pygments_lexer": "ipython3",
   "version": "3.12.7"
  }
 },
 "nbformat": 4,
 "nbformat_minor": 5
}
