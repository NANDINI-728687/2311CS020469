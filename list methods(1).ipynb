{
 "cells": [
  {
   "cell_type": "code",
   "execution_count": null,
   "id": "ec3196fd-a926-4c73-8568-8b309b44175b",
   "metadata": {},
   "outputs": [],
   "source": [
    "#TOPICS\n",
    "#list tuple set dictionary"
   ]
  },
  {
   "cell_type": "code",
   "execution_count": 1,
   "id": "70e30b11-6fa0-4474-a5a3-f20edc901809",
   "metadata": {},
   "outputs": [
    {
     "data": {
      "text/plain": [
       "65"
      ]
     },
     "execution_count": 1,
     "metadata": {},
     "output_type": "execute_result"
    }
   ],
   "source": [
    "b=65\n",
    "b"
   ]
  },
  {
   "cell_type": "code",
   "execution_count": 3,
   "id": "88f2232f-6fd6-4307-9704-06b9bc9c3d87",
   "metadata": {},
   "outputs": [
    {
     "data": {
      "text/plain": [
       "[3, 67, 345, 435646]"
      ]
     },
     "execution_count": 3,
     "metadata": {},
     "output_type": "execute_result"
    }
   ],
   "source": [
    "a=[3,67,345,435646]\n",
    "a"
   ]
  },
  {
   "cell_type": "code",
   "execution_count": 5,
   "id": "875668e5-4094-490e-87d7-54307b357596",
   "metadata": {},
   "outputs": [
    {
     "data": {
      "text/plain": [
       "list"
      ]
     },
     "execution_count": 5,
     "metadata": {},
     "output_type": "execute_result"
    }
   ],
   "source": [
    "type(a)"
   ]
  },
  {
   "cell_type": "code",
   "execution_count": 7,
   "id": "34987a64-3e9f-4b99-b244-b479e4b7e5ec",
   "metadata": {},
   "outputs": [
    {
     "name": "stdout",
     "output_type": "stream",
     "text": [
      "[3, 67, 345, 435646]\n"
     ]
    }
   ],
   "source": [
    "print(a)"
   ]
  },
  {
   "cell_type": "code",
   "execution_count": 9,
   "id": "319aa49a-035a-42bf-8874-3c99badaa698",
   "metadata": {},
   "outputs": [
    {
     "data": {
      "text/plain": [
       "[32, 'hi', 23, True, False, 45, 7, 34, 32.9]"
      ]
     },
     "execution_count": 9,
     "metadata": {},
     "output_type": "execute_result"
    }
   ],
   "source": [
    "c=[32,'hi',23,True,False,45,7,34,32.9]\n",
    "c"
   ]
  },
  {
   "cell_type": "code",
   "execution_count": 11,
   "id": "b8145ce7-427e-42ab-aa24-722782f2db33",
   "metadata": {},
   "outputs": [
    {
     "data": {
      "text/plain": [
       "list"
      ]
     },
     "execution_count": 11,
     "metadata": {},
     "output_type": "execute_result"
    }
   ],
   "source": [
    "type(c)"
   ]
  },
  {
   "cell_type": "code",
   "execution_count": 13,
   "id": "6d980b7b-f95e-4e5a-b29b-63436c568829",
   "metadata": {},
   "outputs": [
    {
     "data": {
      "text/plain": [
       "32"
      ]
     },
     "execution_count": 13,
     "metadata": {},
     "output_type": "execute_result"
    }
   ],
   "source": [
    "c[0]"
   ]
  },
  {
   "cell_type": "code",
   "execution_count": 15,
   "id": "a7e53c16-c9cd-41d4-915b-05000b98aa59",
   "metadata": {},
   "outputs": [
    {
     "data": {
      "text/plain": [
       "'hi'"
      ]
     },
     "execution_count": 15,
     "metadata": {},
     "output_type": "execute_result"
    }
   ],
   "source": [
    "c[1]"
   ]
  },
  {
   "cell_type": "code",
   "execution_count": 17,
   "id": "068364d3-8a18-40a3-8e51-77f7b4b84573",
   "metadata": {},
   "outputs": [
    {
     "data": {
      "text/plain": [
       "True"
      ]
     },
     "execution_count": 17,
     "metadata": {},
     "output_type": "execute_result"
    }
   ],
   "source": [
    "c[3]"
   ]
  },
  {
   "cell_type": "code",
   "execution_count": 19,
   "id": "7dd810b2-6710-4fa4-b32d-410e00d27daa",
   "metadata": {},
   "outputs": [
    {
     "data": {
      "text/plain": [
       "False"
      ]
     },
     "execution_count": 19,
     "metadata": {},
     "output_type": "execute_result"
    }
   ],
   "source": [
    "c[4]"
   ]
  },
  {
   "cell_type": "code",
   "execution_count": 21,
   "id": "07cde4a5-b0e7-4756-9044-2aad99f2ee0c",
   "metadata": {},
   "outputs": [
    {
     "data": {
      "text/plain": [
       "45"
      ]
     },
     "execution_count": 21,
     "metadata": {},
     "output_type": "execute_result"
    }
   ],
   "source": [
    "c[5]"
   ]
  },
  {
   "cell_type": "code",
   "execution_count": 23,
   "id": "1a2e99f7-ccf3-48c4-ae90-fa4ba5a55092",
   "metadata": {},
   "outputs": [
    {
     "data": {
      "text/plain": [
       "7"
      ]
     },
     "execution_count": 23,
     "metadata": {},
     "output_type": "execute_result"
    }
   ],
   "source": [
    "c[6]"
   ]
  },
  {
   "cell_type": "code",
   "execution_count": 25,
   "id": "b276a5a5-3d4d-4a1a-b228-f41a50b08265",
   "metadata": {},
   "outputs": [
    {
     "data": {
      "text/plain": [
       "34"
      ]
     },
     "execution_count": 25,
     "metadata": {},
     "output_type": "execute_result"
    }
   ],
   "source": [
    "c[7]"
   ]
  },
  {
   "cell_type": "code",
   "execution_count": 27,
   "id": "9deb3c3f-9fe3-40bb-9b3f-c96cb95b27cc",
   "metadata": {},
   "outputs": [
    {
     "data": {
      "text/plain": [
       "32.9"
      ]
     },
     "execution_count": 27,
     "metadata": {},
     "output_type": "execute_result"
    }
   ],
   "source": [
    "c[8]"
   ]
  },
  {
   "cell_type": "code",
   "execution_count": 29,
   "id": "60ded560-257f-44bb-8de7-047b9ef8e9b2",
   "metadata": {},
   "outputs": [
    {
     "data": {
      "text/plain": [
       "[32, 'hi', 23, True, False, 45, 7, 34, 32.9]"
      ]
     },
     "execution_count": 29,
     "metadata": {},
     "output_type": "execute_result"
    }
   ],
   "source": [
    "c=[32,'hi',23,True,False,45,7,34,32.9]\n",
    "c"
   ]
  },
  {
   "cell_type": "code",
   "execution_count": 31,
   "id": "5ab34440-95cc-4053-8176-445deceac714",
   "metadata": {},
   "outputs": [
    {
     "data": {
      "text/plain": [
       "32.9"
      ]
     },
     "execution_count": 31,
     "metadata": {},
     "output_type": "execute_result"
    }
   ],
   "source": [
    "c[8]"
   ]
  },
  {
   "cell_type": "code",
   "execution_count": 33,
   "id": "f8ff3e6b-ba87-4980-9546-3b995f0ba769",
   "metadata": {},
   "outputs": [
    {
     "data": {
      "text/plain": [
       "False"
      ]
     },
     "execution_count": 33,
     "metadata": {},
     "output_type": "execute_result"
    }
   ],
   "source": [
    "c[4]"
   ]
  },
  {
   "cell_type": "code",
   "execution_count": 35,
   "id": "a51a4fbd-d0b6-456d-a338-ba5dc3cf043f",
   "metadata": {},
   "outputs": [
    {
     "data": {
      "text/plain": [
       "32.9"
      ]
     },
     "execution_count": 35,
     "metadata": {},
     "output_type": "execute_result"
    }
   ],
   "source": [
    "c[-1]"
   ]
  },
  {
   "cell_type": "code",
   "execution_count": 37,
   "id": "9527b7b3-6ef3-458d-a126-b2be44f773b6",
   "metadata": {},
   "outputs": [
    {
     "data": {
      "text/plain": [
       "34"
      ]
     },
     "execution_count": 37,
     "metadata": {},
     "output_type": "execute_result"
    }
   ],
   "source": [
    "c[-2]"
   ]
  },
  {
   "cell_type": "code",
   "execution_count": 39,
   "id": "45ee4ea3-60fa-4a71-8fac-e79026ccf806",
   "metadata": {},
   "outputs": [
    {
     "data": {
      "text/plain": [
       "7"
      ]
     },
     "execution_count": 39,
     "metadata": {},
     "output_type": "execute_result"
    }
   ],
   "source": [
    "c[-3]"
   ]
  },
  {
   "cell_type": "code",
   "execution_count": 41,
   "id": "bcf2dfd1-1451-4325-a14e-ed1dc9aadf2d",
   "metadata": {},
   "outputs": [
    {
     "data": {
      "text/plain": [
       "45"
      ]
     },
     "execution_count": 41,
     "metadata": {},
     "output_type": "execute_result"
    }
   ],
   "source": [
    "c[-4]"
   ]
  },
  {
   "cell_type": "code",
   "execution_count": 43,
   "id": "b1e48dcd-7d7c-476b-8da6-655e62811cb2",
   "metadata": {},
   "outputs": [
    {
     "data": {
      "text/plain": [
       "False"
      ]
     },
     "execution_count": 43,
     "metadata": {},
     "output_type": "execute_result"
    }
   ],
   "source": [
    "c[-5]"
   ]
  },
  {
   "cell_type": "code",
   "execution_count": 45,
   "id": "37a99b6f-0251-4f27-b40e-89e48660145b",
   "metadata": {},
   "outputs": [
    {
     "data": {
      "text/plain": [
       "True"
      ]
     },
     "execution_count": 45,
     "metadata": {},
     "output_type": "execute_result"
    }
   ],
   "source": [
    "c[-6]"
   ]
  },
  {
   "cell_type": "code",
   "execution_count": 47,
   "id": "21b707ff-dc60-4ba8-b1a1-c120bb132ae1",
   "metadata": {},
   "outputs": [
    {
     "data": {
      "text/plain": [
       "23"
      ]
     },
     "execution_count": 47,
     "metadata": {},
     "output_type": "execute_result"
    }
   ],
   "source": [
    "c[-7]"
   ]
  },
  {
   "cell_type": "code",
   "execution_count": 49,
   "id": "2a88f4e6-f28d-4f64-afec-b270b17bc150",
   "metadata": {},
   "outputs": [
    {
     "data": {
      "text/plain": [
       "'hi'"
      ]
     },
     "execution_count": 49,
     "metadata": {},
     "output_type": "execute_result"
    }
   ],
   "source": [
    "c[-8]"
   ]
  },
  {
   "cell_type": "code",
   "execution_count": 51,
   "id": "13e117e5-c2c8-4a25-bae9-c224f83f5ece",
   "metadata": {},
   "outputs": [
    {
     "data": {
      "text/plain": [
       "32"
      ]
     },
     "execution_count": 51,
     "metadata": {},
     "output_type": "execute_result"
    }
   ],
   "source": [
    "c[-9]"
   ]
  },
  {
   "cell_type": "code",
   "execution_count": 53,
   "id": "9dc50f88-2f16-4b9e-a650-f5780cf5ead3",
   "metadata": {},
   "outputs": [
    {
     "data": {
      "text/plain": [
       "['hi', 23, True, False]"
      ]
     },
     "execution_count": 53,
     "metadata": {},
     "output_type": "execute_result"
    }
   ],
   "source": [
    "c[1:5]"
   ]
  },
  {
   "cell_type": "code",
   "execution_count": 55,
   "id": "bec47b6f-90d8-4dd3-9930-b45d2b9a7092",
   "metadata": {},
   "outputs": [
    {
     "data": {
      "text/plain": [
       "[32, 'hi', 23, True, False]"
      ]
     },
     "execution_count": 55,
     "metadata": {},
     "output_type": "execute_result"
    }
   ],
   "source": [
    "c[0:5]"
   ]
  },
  {
   "cell_type": "code",
   "execution_count": 57,
   "id": "ca8284ab-361c-468e-bf60-c2e56181aed8",
   "metadata": {},
   "outputs": [
    {
     "data": {
      "text/plain": [
       "[23, True]"
      ]
     },
     "execution_count": 57,
     "metadata": {},
     "output_type": "execute_result"
    }
   ],
   "source": [
    "c[2:4]"
   ]
  },
  {
   "cell_type": "code",
   "execution_count": 59,
   "id": "5feefa3b-d15e-42a3-b4c7-ba0c8207aeaa",
   "metadata": {},
   "outputs": [
    {
     "ename": "NameError",
     "evalue": "name 'listanme' is not defined",
     "output_type": "error",
     "traceback": [
      "\u001b[1;31m---------------------------------------------------------------------------\u001b[0m",
      "\u001b[1;31mNameError\u001b[0m                                 Traceback (most recent call last)",
      "Cell \u001b[1;32mIn[59], line 1\u001b[0m\n\u001b[1;32m----> 1\u001b[0m listanme[start : end]\n",
      "\u001b[1;31mNameError\u001b[0m: name 'listanme' is not defined"
     ]
    }
   ],
   "source": [
    "listanme[start : end]"
   ]
  },
  {
   "cell_type": "code",
   "execution_count": 61,
   "id": "f4d70923-097d-4204-a41b-928d1a3c0c2b",
   "metadata": {},
   "outputs": [
    {
     "data": {
      "text/plain": [
       "[32, 'hi', 23, True, False, 45, 7, 34, 32.9]"
      ]
     },
     "execution_count": 61,
     "metadata": {},
     "output_type": "execute_result"
    }
   ],
   "source": [
    "c=[32,'hi',23,True,False,45,7,34,32.9]\n",
    "c"
   ]
  },
  {
   "cell_type": "code",
   "execution_count": 63,
   "id": "7380cc8b-d987-427b-87ad-9baecae1950f",
   "metadata": {},
   "outputs": [
    {
     "ename": "NameError",
     "evalue": "name 'listname' is not defined",
     "output_type": "error",
     "traceback": [
      "\u001b[1;31m---------------------------------------------------------------------------\u001b[0m",
      "\u001b[1;31mNameError\u001b[0m                                 Traceback (most recent call last)",
      "Cell \u001b[1;32mIn[63], line 1\u001b[0m\n\u001b[1;32m----> 1\u001b[0m listname[start : end]\n",
      "\u001b[1;31mNameError\u001b[0m: name 'listname' is not defined"
     ]
    }
   ],
   "source": [
    "listname[start : end]"
   ]
  },
  {
   "cell_type": "code",
   "execution_count": 65,
   "id": "a682bce4-6f64-46f3-98e9-3300fcb52993",
   "metadata": {},
   "outputs": [
    {
     "data": {
      "text/plain": [
       "[32, 'hi', 23, True, False, 45, 7, 34, 32.9]"
      ]
     },
     "execution_count": 65,
     "metadata": {},
     "output_type": "execute_result"
    }
   ],
   "source": [
    "c=[32,'hi',23,True,False,45,7,34,32.9]\n",
    "c"
   ]
  },
  {
   "cell_type": "code",
   "execution_count": 67,
   "id": "a1b5386d-79ae-4e66-860e-b6cfcf85e080",
   "metadata": {},
   "outputs": [
    {
     "data": {
      "text/plain": [
       "[32, 'hi', 23, True, False, 45, 7, 34, 32.9]"
      ]
     },
     "execution_count": 67,
     "metadata": {},
     "output_type": "execute_result"
    }
   ],
   "source": [
    "c[0:9]"
   ]
  },
  {
   "cell_type": "code",
   "execution_count": 69,
   "id": "7fe7b373-3637-4f2b-aad2-5973f56ebd55",
   "metadata": {},
   "outputs": [
    {
     "data": {
      "text/plain": [
       "[32, 'hi', 23, True, False, 45, 7, 34]"
      ]
     },
     "execution_count": 69,
     "metadata": {},
     "output_type": "execute_result"
    }
   ],
   "source": [
    "c[0:8]"
   ]
  },
  {
   "cell_type": "code",
   "execution_count": 71,
   "id": "437ccb61-5eed-4fb7-b6d3-6ca1bee787e9",
   "metadata": {},
   "outputs": [
    {
     "data": {
      "text/plain": [
       "[32, 'hi', 23, True, False, 45, 7]"
      ]
     },
     "execution_count": 71,
     "metadata": {},
     "output_type": "execute_result"
    }
   ],
   "source": [
    "c[0:7]"
   ]
  },
  {
   "cell_type": "code",
   "execution_count": 73,
   "id": "2deaca9c-4d1a-4b3e-b348-1b94197c872a",
   "metadata": {},
   "outputs": [
    {
     "data": {
      "text/plain": [
       "[32, 'hi', 23, True, False, 45]"
      ]
     },
     "execution_count": 73,
     "metadata": {},
     "output_type": "execute_result"
    }
   ],
   "source": [
    "c[:6]"
   ]
  },
  {
   "cell_type": "code",
   "execution_count": 75,
   "id": "2c8a9591-dc99-4e7a-8094-338f5ba02945",
   "metadata": {},
   "outputs": [
    {
     "data": {
      "text/plain": [
       "[7, 34, 32.9]"
      ]
     },
     "execution_count": 75,
     "metadata": {},
     "output_type": "execute_result"
    }
   ],
   "source": [
    "c[6:]"
   ]
  },
  {
   "cell_type": "code",
   "execution_count": 77,
   "id": "eff7c9d8-0740-4244-87c3-c2b51cc5c83c",
   "metadata": {},
   "outputs": [
    {
     "data": {
      "text/plain": [
       "[32]"
      ]
     },
     "execution_count": 77,
     "metadata": {},
     "output_type": "execute_result"
    }
   ],
   "source": [
    "c[:1]"
   ]
  },
  {
   "cell_type": "code",
   "execution_count": 79,
   "id": "2f700a50-c308-411a-9004-9c4fff398490",
   "metadata": {},
   "outputs": [
    {
     "data": {
      "text/plain": [
       "['hi', 23, True, False, 45, 7, 34, 32.9]"
      ]
     },
     "execution_count": 79,
     "metadata": {},
     "output_type": "execute_result"
    }
   ],
   "source": [
    "c[1:]"
   ]
  },
  {
   "cell_type": "code",
   "execution_count": 81,
   "id": "c0c2bae3-f2ca-478e-952e-647c659cc7da",
   "metadata": {},
   "outputs": [
    {
     "data": {
      "text/plain": [
       "['hi', 23, True, False, 45, 7]"
      ]
     },
     "execution_count": 81,
     "metadata": {},
     "output_type": "execute_result"
    }
   ],
   "source": [
    "c[1:7:1]"
   ]
  },
  {
   "cell_type": "code",
   "execution_count": 83,
   "id": "7acc5bb2-40e3-42cf-824a-55fc8d4a5bd7",
   "metadata": {},
   "outputs": [
    {
     "data": {
      "text/plain": [
       "[]"
      ]
     },
     "execution_count": 83,
     "metadata": {},
     "output_type": "execute_result"
    }
   ],
   "source": [
    "c[-3:-7]"
   ]
  },
  {
   "cell_type": "code",
   "execution_count": 85,
   "id": "0c2eb033-c5a1-4664-9133-0274327c0c4f",
   "metadata": {},
   "outputs": [
    {
     "data": {
      "text/plain": [
       "[]"
      ]
     },
     "execution_count": 85,
     "metadata": {},
     "output_type": "execute_result"
    }
   ],
   "source": [
    "c[-4:-8]"
   ]
  },
  {
   "cell_type": "code",
   "execution_count": 87,
   "id": "065dc2c4-d729-4d52-873e-dcfd84922693",
   "metadata": {},
   "outputs": [
    {
     "data": {
      "text/plain": [
       "[45, 7]"
      ]
     },
     "execution_count": 87,
     "metadata": {},
     "output_type": "execute_result"
    }
   ],
   "source": [
    "c[-4:7]"
   ]
  },
  {
   "cell_type": "code",
   "execution_count": 89,
   "id": "4cdffcaa-88aa-440b-8bd9-fbaa7b928c5a",
   "metadata": {},
   "outputs": [
    {
     "data": {
      "text/plain": [
       "[]"
      ]
     },
     "execution_count": 89,
     "metadata": {},
     "output_type": "execute_result"
    }
   ],
   "source": [
    "c[-1:-2]"
   ]
  },
  {
   "cell_type": "code",
   "execution_count": 91,
   "id": "3c9faf8c-6e4e-4349-a249-babd61fe5a7f",
   "metadata": {},
   "outputs": [
    {
     "data": {
      "text/plain": [
       "[True, False]"
      ]
     },
     "execution_count": 91,
     "metadata": {},
     "output_type": "execute_result"
    }
   ],
   "source": [
    "c[-6:-4]"
   ]
  },
  {
   "cell_type": "code",
   "execution_count": 99,
   "id": "37081daa-cf49-462a-8066-6618acbfde2e",
   "metadata": {},
   "outputs": [
    {
     "data": {
      "text/plain": [
       "[34, 7, 45, False]"
      ]
     },
     "execution_count": 99,
     "metadata": {},
     "output_type": "execute_result"
    }
   ],
   "source": [
    "c[-2:-6:-1]"
   ]
  },
  {
   "cell_type": "code",
   "execution_count": null,
   "id": "089f852d-2760-4477-848c-9946d1ce6d36",
   "metadata": {},
   "outputs": [],
   "source": [
    "###list methods:append insert extend pop remove clear count\n",
    "\n",
    "c"
   ]
  },
  {
   "cell_type": "code",
   "execution_count": 101,
   "id": "51bc2e7a-f61a-4890-8acc-25b9c9c220bd",
   "metadata": {},
   "outputs": [
    {
     "data": {
      "text/plain": [
       "[32, 'hi', 23, True, False, 45, 7, 34, 32.9]"
      ]
     },
     "execution_count": 101,
     "metadata": {},
     "output_type": "execute_result"
    }
   ],
   "source": [
    "c=[32,'hi',23,True,False,45,7,34,32.9]\n",
    "c"
   ]
  },
  {
   "cell_type": "code",
   "execution_count": null,
   "id": "55d13f68-f185-4675-a59d-c3402f2bd487",
   "metadata": {},
   "outputs": [],
   "source": [
    "c.append(80)"
   ]
  },
  {
   "cell_type": "code",
   "execution_count": 103,
   "id": "6cccbb92-e68b-4419-ba16-c9c423a0718a",
   "metadata": {},
   "outputs": [
    {
     "name": "stdout",
     "output_type": "stream",
     "text": [
      "[32, 'hi', 23, True, False, 45, 7, 34, 32.9]\n"
     ]
    }
   ],
   "source": [
    "print(c)"
   ]
  },
  {
   "cell_type": "code",
   "execution_count": 105,
   "id": "a9c1344a-e6fe-470e-ba27-4ea65267ad16",
   "metadata": {},
   "outputs": [
    {
     "data": {
      "text/plain": [
       "list"
      ]
     },
     "execution_count": 105,
     "metadata": {},
     "output_type": "execute_result"
    }
   ],
   "source": [
    "type(c)"
   ]
  },
  {
   "cell_type": "code",
   "execution_count": 107,
   "id": "84d742be-560c-4c76-9b58-586a9244e107",
   "metadata": {},
   "outputs": [],
   "source": [
    "c.append('Hii')"
   ]
  },
  {
   "cell_type": "code",
   "execution_count": 109,
   "id": "5766bf59-0227-4f08-9a1e-5eb15cb292e3",
   "metadata": {},
   "outputs": [
    {
     "data": {
      "text/plain": [
       "[32, 'hi', 23, True, False, 45, 7, 34, 32.9]"
      ]
     },
     "execution_count": 109,
     "metadata": {},
     "output_type": "execute_result"
    }
   ],
   "source": [
    "c=[32,'hi',23,True,False,45,7,34,32.9]\n",
    "c"
   ]
  },
  {
   "cell_type": "code",
   "execution_count": 111,
   "id": "7c4c8e83-245f-4aad-8cab-bca078a8a18a",
   "metadata": {},
   "outputs": [
    {
     "data": {
      "text/plain": [
       "[32, 'hi', 23, True, False, 45, 7, 34, 32.9]"
      ]
     },
     "execution_count": 111,
     "metadata": {},
     "output_type": "execute_result"
    }
   ],
   "source": [
    "c"
   ]
  },
  {
   "cell_type": "code",
   "execution_count": 115,
   "id": "1be7a005-7a67-42cf-ab73-a48ccce84f9c",
   "metadata": {},
   "outputs": [
    {
     "data": {
      "text/plain": [
       "9"
      ]
     },
     "execution_count": 115,
     "metadata": {},
     "output_type": "execute_result"
    }
   ],
   "source": [
    "len(c)"
   ]
  },
  {
   "cell_type": "code",
   "execution_count": null,
   "id": "f8e98f6e-b6e8-45a6-afe0-c0b5781cf849",
   "metadata": {},
   "outputs": [],
   "source": [
    "c.append('hi')"
   ]
  },
  {
   "cell_type": "code",
   "execution_count": 117,
   "id": "d78bb9b1-47ca-4e71-a38e-4959fc966b7f",
   "metadata": {},
   "outputs": [
    {
     "data": {
      "text/plain": [
       "[32, 'hi', 23, True, False, 45, 7, 34, 32.9]"
      ]
     },
     "execution_count": 117,
     "metadata": {},
     "output_type": "execute_result"
    }
   ],
   "source": [
    "c"
   ]
  },
  {
   "cell_type": "code",
   "execution_count": null,
   "id": "5fe7d8ac-409a-499b-a2f3-237bd146aa67",
   "metadata": {},
   "outputs": [],
   "source": [
    "c.append(80)"
   ]
  },
  {
   "cell_type": "code",
   "execution_count": 119,
   "id": "1aac40b9-9468-4d69-89b4-21b2e632986f",
   "metadata": {},
   "outputs": [
    {
     "data": {
      "text/plain": [
       "[32, 'hi', 23, True, False, 45, 7, 34, 32.9]"
      ]
     },
     "execution_count": 119,
     "metadata": {},
     "output_type": "execute_result"
    }
   ],
   "source": [
    "c"
   ]
  },
  {
   "cell_type": "code",
   "execution_count": 121,
   "id": "8cd42030-f784-4eb4-905e-8329c6660ada",
   "metadata": {},
   "outputs": [],
   "source": [
    "c.append(45)"
   ]
  },
  {
   "cell_type": "code",
   "execution_count": 123,
   "id": "4b355353-2a9d-4ba6-8ce6-bec8a43bbcf4",
   "metadata": {},
   "outputs": [
    {
     "data": {
      "text/plain": [
       "[32, 'hi', 23, True, False, 45, 7, 34, 32.9, 45]"
      ]
     },
     "execution_count": 123,
     "metadata": {},
     "output_type": "execute_result"
    }
   ],
   "source": [
    "c"
   ]
  },
  {
   "cell_type": "code",
   "execution_count": 125,
   "id": "98471674-fe91-4bee-91a9-7cd436ba187d",
   "metadata": {},
   "outputs": [
    {
     "ename": "TypeError",
     "evalue": "insert expected 2 arguments, got 1",
     "output_type": "error",
     "traceback": [
      "\u001b[1;31m---------------------------------------------------------------------------\u001b[0m",
      "\u001b[1;31mTypeError\u001b[0m                                 Traceback (most recent call last)",
      "Cell \u001b[1;32mIn[125], line 1\u001b[0m\n\u001b[1;32m----> 1\u001b[0m c\u001b[38;5;241m.\u001b[39minsert(\u001b[38;5;241m23\u001b[39m)\n\u001b[0;32m      2\u001b[0m c\n",
      "\u001b[1;31mTypeError\u001b[0m: insert expected 2 arguments, got 1"
     ]
    }
   ],
   "source": [
    "c.insert(23)\n",
    "c\n"
   ]
  },
  {
   "cell_type": "code",
   "execution_count": 127,
   "id": "07554be6-9ec7-4fb1-af6e-6bbd0a36c804",
   "metadata": {},
   "outputs": [
    {
     "data": {
      "text/plain": [
       "[32, 'hi', 23, True, False, 45, 7, 34, 32.9, 45]"
      ]
     },
     "execution_count": 127,
     "metadata": {},
     "output_type": "execute_result"
    }
   ],
   "source": [
    "c"
   ]
  },
  {
   "cell_type": "code",
   "execution_count": 129,
   "id": "e0304be8-9485-4f40-8168-a0cfa3f0e3ee",
   "metadata": {},
   "outputs": [],
   "source": [
    "c.insert(0,'hii')"
   ]
  },
  {
   "cell_type": "code",
   "execution_count": 131,
   "id": "c72aed66-d334-4b98-9817-d547f3c2ee9f",
   "metadata": {},
   "outputs": [
    {
     "data": {
      "text/plain": [
       "['hii', 32, 'hi', 23, True, False, 45, 7, 34, 32.9, 45]"
      ]
     },
     "execution_count": 131,
     "metadata": {},
     "output_type": "execute_result"
    }
   ],
   "source": [
    "c"
   ]
  },
  {
   "cell_type": "code",
   "execution_count": 133,
   "id": "309cb098-02ac-43f8-878b-e985214c639b",
   "metadata": {},
   "outputs": [
    {
     "data": {
      "text/plain": [
       "True"
      ]
     },
     "execution_count": 133,
     "metadata": {},
     "output_type": "execute_result"
    }
   ],
   "source": [
    "c.pop(4)"
   ]
  },
  {
   "cell_type": "code",
   "execution_count": 135,
   "id": "cd6c6957-9288-4609-82bc-80987f27d1bc",
   "metadata": {},
   "outputs": [
    {
     "data": {
      "text/plain": [
       "['hii', 32, 'hi', 23, False, 45, 7, 34, 32.9, 45]"
      ]
     },
     "execution_count": 135,
     "metadata": {},
     "output_type": "execute_result"
    }
   ],
   "source": [
    "c"
   ]
  },
  {
   "cell_type": "code",
   "execution_count": 137,
   "id": "78a63d5b-407c-48f6-bddd-e12049d9004d",
   "metadata": {},
   "outputs": [
    {
     "data": {
      "text/plain": [
       "'hii'"
      ]
     },
     "execution_count": 137,
     "metadata": {},
     "output_type": "execute_result"
    }
   ],
   "source": [
    "c.pop(0)"
   ]
  },
  {
   "cell_type": "code",
   "execution_count": 139,
   "id": "4bf63264-9c02-418c-9a65-035ed7fb93cb",
   "metadata": {},
   "outputs": [
    {
     "data": {
      "text/plain": [
       "32.9"
      ]
     },
     "execution_count": 139,
     "metadata": {},
     "output_type": "execute_result"
    }
   ],
   "source": [
    "c.pop(7)"
   ]
  },
  {
   "cell_type": "code",
   "execution_count": 141,
   "id": "7b2a8141-17b9-4beb-839c-7f490a233e37",
   "metadata": {},
   "outputs": [
    {
     "data": {
      "text/plain": [
       "list"
      ]
     },
     "execution_count": 141,
     "metadata": {},
     "output_type": "execute_result"
    }
   ],
   "source": [
    "type(c)"
   ]
  },
  {
   "cell_type": "code",
   "execution_count": 143,
   "id": "6d4f44f1-8c4b-4d49-b6b9-eb32d90eff35",
   "metadata": {},
   "outputs": [
    {
     "name": "stdout",
     "output_type": "stream",
     "text": [
      "[32, 'hi', 23, False, 45, 7, 34, 45]\n"
     ]
    }
   ],
   "source": [
    "print(c)"
   ]
  },
  {
   "cell_type": "code",
   "execution_count": 145,
   "id": "4ef22d13-666b-49c9-8d85-ef4a8e8d6a9e",
   "metadata": {},
   "outputs": [
    {
     "data": {
      "text/plain": [
       "1"
      ]
     },
     "execution_count": 145,
     "metadata": {},
     "output_type": "execute_result"
    }
   ],
   "source": [
    "c.count(34)"
   ]
  },
  {
   "cell_type": "code",
   "execution_count": 147,
   "id": "ed930dd1-bd40-4415-9d6f-ff4637de73ec",
   "metadata": {},
   "outputs": [
    {
     "data": {
      "text/plain": [
       "0"
      ]
     },
     "execution_count": 147,
     "metadata": {},
     "output_type": "execute_result"
    }
   ],
   "source": [
    "c.count(52)"
   ]
  },
  {
   "cell_type": "code",
   "execution_count": 149,
   "id": "ea3455e4-6cf4-4c40-9c10-144ad3f10c12",
   "metadata": {},
   "outputs": [
    {
     "data": {
      "text/plain": [
       "1"
      ]
     },
     "execution_count": 149,
     "metadata": {},
     "output_type": "execute_result"
    }
   ],
   "source": [
    "c.count(0)"
   ]
  },
  {
   "cell_type": "code",
   "execution_count": 151,
   "id": "56d13863-4940-4dc0-9cd6-5fc0ce0fada0",
   "metadata": {},
   "outputs": [
    {
     "data": {
      "text/plain": [
       "[2, 3, 4, 5, 67, 8, 9, 0]"
      ]
     },
     "execution_count": 151,
     "metadata": {},
     "output_type": "execute_result"
    }
   ],
   "source": [
    "d=[2,3,4,5,67,8,9,0]\n",
    "d"
   ]
  },
  {
   "cell_type": "code",
   "execution_count": 153,
   "id": "46689427-ca41-4493-88c8-a11d7b788856",
   "metadata": {},
   "outputs": [
    {
     "data": {
      "text/plain": [
       "1"
      ]
     },
     "execution_count": 153,
     "metadata": {},
     "output_type": "execute_result"
    }
   ],
   "source": [
    "c.count(32)"
   ]
  },
  {
   "cell_type": "code",
   "execution_count": 155,
   "id": "03d04fff-6005-4af3-b815-1a03354fa669",
   "metadata": {},
   "outputs": [
    {
     "data": {
      "text/plain": [
       "[32, 32, 'hi', 23, True, False, 45, 7, 34, 32.9]"
      ]
     },
     "execution_count": 155,
     "metadata": {},
     "output_type": "execute_result"
    }
   ],
   "source": [
    "c=[32,32,'hi',23,True,False,45,7,34,32.9]\n",
    "c"
   ]
  },
  {
   "cell_type": "code",
   "execution_count": 157,
   "id": "5f15ee04-938f-4bdd-8b24-c69204001fb6",
   "metadata": {},
   "outputs": [
    {
     "data": {
      "text/plain": [
       "2"
      ]
     },
     "execution_count": 157,
     "metadata": {},
     "output_type": "execute_result"
    }
   ],
   "source": [
    "c.count(32)"
   ]
  },
  {
   "cell_type": "code",
   "execution_count": 159,
   "id": "a0bee82e-0d5a-4f6a-9204-6d78c4df5b2c",
   "metadata": {},
   "outputs": [
    {
     "data": {
      "text/plain": [
       "[2, 3, 4, 5, 67, 8, 9, 0]"
      ]
     },
     "execution_count": 159,
     "metadata": {},
     "output_type": "execute_result"
    }
   ],
   "source": [
    "d=[2,3,4,5,67,8,9,0]\n",
    "d"
   ]
  },
  {
   "cell_type": "code",
   "execution_count": 161,
   "id": "58e2351b-b18a-4078-94e1-b9cf528eb28c",
   "metadata": {},
   "outputs": [],
   "source": [
    "c.clear()"
   ]
  },
  {
   "cell_type": "code",
   "execution_count": 163,
   "id": "ec7d4dcf-8439-4102-bd0a-d9431ee13973",
   "metadata": {},
   "outputs": [
    {
     "data": {
      "text/plain": [
       "[]"
      ]
     },
     "execution_count": 163,
     "metadata": {},
     "output_type": "execute_result"
    }
   ],
   "source": [
    "c"
   ]
  },
  {
   "cell_type": "code",
   "execution_count": null,
   "id": "a948984f-3644-4f69-8801-a3d5c82a6452",
   "metadata": {},
   "outputs": [],
   "source": [
    "c.clear()"
   ]
  },
  {
   "cell_type": "code",
   "execution_count": 165,
   "id": "2c45dfc2-3e69-4be2-bc93-3eafe71a4b50",
   "metadata": {},
   "outputs": [
    {
     "data": {
      "text/plain": [
       "[]"
      ]
     },
     "execution_count": 165,
     "metadata": {},
     "output_type": "execute_result"
    }
   ],
   "source": [
    "c"
   ]
  },
  {
   "cell_type": "code",
   "execution_count": 167,
   "id": "c1a4abc6-8550-4deb-8f55-87b576029ed7",
   "metadata": {},
   "outputs": [
    {
     "data": {
      "text/plain": [
       "[32, 32, 'hi', 23, True, False, 45, 7, 34, 32.9]"
      ]
     },
     "execution_count": 167,
     "metadata": {},
     "output_type": "execute_result"
    }
   ],
   "source": [
    "c=[32,32,'hi',23,True,False,45,7,34,32.9]\n",
    "c"
   ]
  },
  {
   "cell_type": "code",
   "execution_count": 169,
   "id": "d1f074f8-22ff-4c14-82a5-e1b2c26c0cf7",
   "metadata": {},
   "outputs": [
    {
     "data": {
      "text/plain": [
       "[32, 32, 'hi', 23, True, False, 45, 7, 34, 32.9]"
      ]
     },
     "execution_count": 169,
     "metadata": {},
     "output_type": "execute_result"
    }
   ],
   "source": [
    "c"
   ]
  },
  {
   "cell_type": "code",
   "execution_count": 171,
   "id": "62d9ee31-fdf7-4324-8db9-7d18aa440fad",
   "metadata": {},
   "outputs": [],
   "source": [
    "c.insert(10,'hii')"
   ]
  },
  {
   "cell_type": "code",
   "execution_count": 173,
   "id": "24ad65d5-b95c-4b1c-974c-b9ba7d35946a",
   "metadata": {},
   "outputs": [
    {
     "data": {
      "text/plain": [
       "[32, 32, 'hi', 23, True, False, 45, 7, 34, 32.9, 'hii']"
      ]
     },
     "execution_count": 173,
     "metadata": {},
     "output_type": "execute_result"
    }
   ],
   "source": [
    "c"
   ]
  },
  {
   "cell_type": "code",
   "execution_count": 175,
   "id": "37f5c6ed-81a0-44aa-b0fc-8486f98759b8",
   "metadata": {},
   "outputs": [],
   "source": [
    "c.insert(10,'hii')"
   ]
  },
  {
   "cell_type": "code",
   "execution_count": 177,
   "id": "845bb975-d10d-487e-a6a0-6e7168763bbf",
   "metadata": {},
   "outputs": [
    {
     "data": {
      "text/plain": [
       "[32, 32, 'hi', 23, True, False, 45, 7, 34, 32.9, 'hii', 'hii']"
      ]
     },
     "execution_count": 177,
     "metadata": {},
     "output_type": "execute_result"
    }
   ],
   "source": [
    "c"
   ]
  },
  {
   "cell_type": "code",
   "execution_count": 179,
   "id": "0709123f-994b-44b2-906a-32469e4bda62",
   "metadata": {},
   "outputs": [],
   "source": [
    "c.append(3)"
   ]
  },
  {
   "cell_type": "code",
   "execution_count": 181,
   "id": "20c73182-a4da-4a0d-bbb9-aaed8eee35aa",
   "metadata": {},
   "outputs": [
    {
     "data": {
      "text/plain": [
       "[32, 32, 'hi', 23, True, False, 45, 7, 34, 32.9, 'hii', 'hii', 3]"
      ]
     },
     "execution_count": 181,
     "metadata": {},
     "output_type": "execute_result"
    }
   ],
   "source": [
    "c"
   ]
  },
  {
   "cell_type": "code",
   "execution_count": 183,
   "id": "b4faa311-c8fd-4864-8193-d5a290ae36b7",
   "metadata": {},
   "outputs": [
    {
     "data": {
      "text/plain": [
       "1"
      ]
     },
     "execution_count": 183,
     "metadata": {},
     "output_type": "execute_result"
    }
   ],
   "source": [
    "c.count(3)"
   ]
  },
  {
   "cell_type": "code",
   "execution_count": 185,
   "id": "70a392a0-457b-45e9-af31-8698a349b2f5",
   "metadata": {},
   "outputs": [
    {
     "data": {
      "text/plain": [
       "2"
      ]
     },
     "execution_count": 185,
     "metadata": {},
     "output_type": "execute_result"
    }
   ],
   "source": [
    "c.count('hii')"
   ]
  },
  {
   "cell_type": "code",
   "execution_count": 187,
   "id": "5e1985fa-da5b-4a5d-b6c9-19b50557a36d",
   "metadata": {},
   "outputs": [
    {
     "data": {
      "text/plain": [
       "0"
      ]
     },
     "execution_count": 187,
     "metadata": {},
     "output_type": "execute_result"
    }
   ],
   "source": [
    "c.count(206)"
   ]
  },
  {
   "cell_type": "code",
   "execution_count": 189,
   "id": "11f00410-4e5e-444b-bbb7-7e5cfcc586bb",
   "metadata": {},
   "outputs": [
    {
     "data": {
      "text/plain": [
       "True"
      ]
     },
     "execution_count": 189,
     "metadata": {},
     "output_type": "execute_result"
    }
   ],
   "source": [
    "c.pop(4)"
   ]
  },
  {
   "cell_type": "code",
   "execution_count": null,
   "id": "8e699f5f-6a99-4994-a046-53ad573ad26f",
   "metadata": {},
   "outputs": [],
   "source": [
    "c.clear()"
   ]
  },
  {
   "cell_type": "code",
   "execution_count": 191,
   "id": "1e62ada5-6dad-4fc8-a00f-a18226c8531a",
   "metadata": {},
   "outputs": [
    {
     "data": {
      "text/plain": [
       "[32, 32, 'hi', 23, False, 45, 7, 34, 32.9, 'hii', 'hii', 3]"
      ]
     },
     "execution_count": 191,
     "metadata": {},
     "output_type": "execute_result"
    }
   ],
   "source": [
    "c"
   ]
  },
  {
   "cell_type": "code",
   "execution_count": 193,
   "id": "fb08b281-8d9d-4e6e-bac7-0c0662f15aec",
   "metadata": {},
   "outputs": [
    {
     "data": {
      "text/plain": [
       "[32, 32, 'hi', 23, True, False, 45, 7, 34, 32.9]"
      ]
     },
     "execution_count": 193,
     "metadata": {},
     "output_type": "execute_result"
    }
   ],
   "source": [
    "c=[32,32,'hi',23,True,False,45,7,34,32.9]\n",
    "c"
   ]
  },
  {
   "cell_type": "code",
   "execution_count": 195,
   "id": "d6a1ccf4-a7da-4306-ae0a-a76494e89496",
   "metadata": {},
   "outputs": [],
   "source": [
    "c.remove(7)"
   ]
  },
  {
   "cell_type": "code",
   "execution_count": 197,
   "id": "82162ddb-ac09-4630-821b-2a6bb7b91b53",
   "metadata": {},
   "outputs": [
    {
     "data": {
      "text/plain": [
       "[32, 32, 'hi', 23, True, False, 45, 34, 32.9]"
      ]
     },
     "execution_count": 197,
     "metadata": {},
     "output_type": "execute_result"
    }
   ],
   "source": [
    "c"
   ]
  },
  {
   "cell_type": "code",
   "execution_count": 199,
   "id": "f4712c04-bf16-45d4-b90c-0a20fcf6dca0",
   "metadata": {},
   "outputs": [],
   "source": [
    "c.clear()"
   ]
  },
  {
   "cell_type": "code",
   "execution_count": 201,
   "id": "b712e6e6-2dc1-438a-ae86-57d09e637606",
   "metadata": {},
   "outputs": [
    {
     "data": {
      "text/plain": [
       "[]"
      ]
     },
     "execution_count": 201,
     "metadata": {},
     "output_type": "execute_result"
    }
   ],
   "source": [
    "c"
   ]
  },
  {
   "cell_type": "code",
   "execution_count": 203,
   "id": "7ba6095d-6ed5-421b-923d-5e1507498d04",
   "metadata": {},
   "outputs": [
    {
     "data": {
      "text/plain": [
       "[32, 32, 'hi', 23, True, False, 45, 7, 34, 32.9]"
      ]
     },
     "execution_count": 203,
     "metadata": {},
     "output_type": "execute_result"
    }
   ],
   "source": [
    "c=[32,32,'hi',23,True,False,45,7,34,32.9]\n",
    "c"
   ]
  },
  {
   "cell_type": "code",
   "execution_count": 205,
   "id": "915f536b-5003-4ec2-b9c9-35f03a822d8e",
   "metadata": {},
   "outputs": [],
   "source": [
    "d.extend([100,200,300,400])"
   ]
  },
  {
   "cell_type": "code",
   "execution_count": 207,
   "id": "fb94536b-8706-4c82-aefc-cd79dba80199",
   "metadata": {},
   "outputs": [
    {
     "data": {
      "text/plain": [
       "[2, 3, 4, 5, 67, 8, 9, 0, 100, 200, 300, 400]"
      ]
     },
     "execution_count": 207,
     "metadata": {},
     "output_type": "execute_result"
    }
   ],
   "source": [
    "d"
   ]
  },
  {
   "cell_type": "code",
   "execution_count": 209,
   "id": "646284e9-36b5-4765-a829-2d5474c2753f",
   "metadata": {},
   "outputs": [],
   "source": [
    "d.extend(a)"
   ]
  },
  {
   "cell_type": "code",
   "execution_count": 211,
   "id": "d3395341-c3d7-43da-9d7c-6d69f0ec3280",
   "metadata": {},
   "outputs": [
    {
     "data": {
      "text/plain": [
       "[3, 67, 345, 435646]"
      ]
     },
     "execution_count": 211,
     "metadata": {},
     "output_type": "execute_result"
    }
   ],
   "source": [
    "a"
   ]
  },
  {
   "cell_type": "code",
   "execution_count": 213,
   "id": "4353442f-3ae2-451c-9c18-79d2584b59aa",
   "metadata": {},
   "outputs": [],
   "source": [
    "c=[700,600,500,300]"
   ]
  },
  {
   "cell_type": "code",
   "execution_count": 215,
   "id": "8049dd08-077a-464e-9830-357e8fc1e18a",
   "metadata": {},
   "outputs": [
    {
     "data": {
      "text/plain": [
       "[700, 600, 500, 300]"
      ]
     },
     "execution_count": 215,
     "metadata": {},
     "output_type": "execute_result"
    }
   ],
   "source": [
    "c"
   ]
  },
  {
   "cell_type": "code",
   "execution_count": 217,
   "id": "1fbc2a4e-0e19-45fb-b8e0-dc52ec6d0afe",
   "metadata": {},
   "outputs": [
    {
     "data": {
      "text/plain": [
       "[3, 67, 345, 435646]"
      ]
     },
     "execution_count": 217,
     "metadata": {},
     "output_type": "execute_result"
    }
   ],
   "source": [
    "a"
   ]
  },
  {
   "cell_type": "code",
   "execution_count": 219,
   "id": "6ed1c7f8-f895-4640-b9bc-9be71d6f0a8a",
   "metadata": {},
   "outputs": [
    {
     "data": {
      "text/plain": [
       "[700, 600, 500, 300, 3, 67, 345, 435646]"
      ]
     },
     "execution_count": 219,
     "metadata": {},
     "output_type": "execute_result"
    }
   ],
   "source": [
    "c + a"
   ]
  },
  {
   "cell_type": "code",
   "execution_count": 221,
   "id": "9b42af67-529e-477e-811b-e8ac4eadebe9",
   "metadata": {},
   "outputs": [
    {
     "data": {
      "text/plain": [
       "[700, 600, 500, 300, 3, 67, 345, 435646]"
      ]
     },
     "execution_count": 221,
     "metadata": {},
     "output_type": "execute_result"
    }
   ],
   "source": [
    "c+a"
   ]
  },
  {
   "cell_type": "code",
   "execution_count": null,
   "id": "64e55a3c-a11c-4bc5-afdd-c656aa25bc24",
   "metadata": {},
   "outputs": [],
   "source": []
  }
 ],
 "metadata": {
  "kernelspec": {
   "display_name": "Python [conda env:base] *",
   "language": "python",
   "name": "conda-base-py"
  },
  "language_info": {
   "codemirror_mode": {
    "name": "ipython",
    "version": 3
   },
   "file_extension": ".py",
   "mimetype": "text/x-python",
   "name": "python",
   "nbconvert_exporter": "python",
   "pygments_lexer": "ipython3",
   "version": "3.12.7"
  }
 },
 "nbformat": 4,
 "nbformat_minor": 5
}
